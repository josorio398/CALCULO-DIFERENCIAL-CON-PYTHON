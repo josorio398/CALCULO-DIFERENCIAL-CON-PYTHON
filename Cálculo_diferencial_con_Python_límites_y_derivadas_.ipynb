{
  "nbformat": 4,
  "nbformat_minor": 0,
  "metadata": {
    "colab": {
      "name": "Cálculo diferencial con Python-límites y derivadas .ipynb",
      "provenance": [],
      "collapsed_sections": [],
      "include_colab_link": true
    },
    "kernelspec": {
      "name": "python3",
      "display_name": "Python 3"
    }
  },
  "cells": [
    {
      "cell_type": "markdown",
      "metadata": {
        "id": "view-in-github",
        "colab_type": "text"
      },
      "source": [
        "<a href=\"https://colab.research.google.com/github/josorio398/CALCULO-DIFERENCIAL-CON-PYTHON/blob/main/C%C3%A1lculo_diferencial_con_Python_l%C3%ADmites_y_derivadas_.ipynb\" target=\"_parent\"><img src=\"https://colab.research.google.com/assets/colab-badge.svg\" alt=\"Open In Colab\"/></a>"
      ]
    },
    {
      "cell_type": "markdown",
      "metadata": {
        "id": "RVxHpsbcExUD"
      },
      "source": [
        "<p><img alt=\"logo.fua\" height=\"100px\" src=\"https://www.uamerica.edu.co/wp-content/images/escudo.png\" align=\"left\" hspace=\"10px\" vspace=\"0px\"></p>\n",
        "\n",
        "<p><img alt=\"logo.fua\" height=\"26px\" src=\"https://mirrors.creativecommons.org/presskit/buttons/88x31/svg/by-nd.svg\" align=\"right\" hspace=\"0px\" vspace=\"11px\"></p>\n",
        "\n",
        "\n",
        "# <center> <font size=\"6\">**CÁLCULO DIFERENCIAL CON PYTHON** <center>*Jhonny Osorio Gallego* &nbsp; &nbsp; &nbsp;&nbsp;&nbsp;<p></font> \n",
        " "
      ]
    },
    {
      "cell_type": "markdown",
      "metadata": {
        "id": "pELON3yz_46g"
      },
      "source": [
        "#**LIMITES, DERIVACIÓN E INTEGRACIÓN CON MÓDULO SYMPY**"
      ]
    },
    {
      "cell_type": "markdown",
      "metadata": {
        "id": "U515Q-sM2m9k"
      },
      "source": [
        "##**LIBRERÍA SIMBÓLICA SYMPY**\n",
        "**SymPy** es una biblioteca de Python para matemáticas simbólicas. Su objetivo es convertirse en un sistema de álgebra computacional (CAS) con todas las funciones, manteniendo el código lo más simple posible para que sea comprensible y fácilmente extensible. SymPy está escrito completamente en Python.[sympy.org](https://www.sympy.org/en/index.html)"
      ]
    },
    {
      "cell_type": "code",
      "metadata": {
        "id": "4wHJ9dZ3405h"
      },
      "source": [
        "from sympy import *\n",
        "init_printing() \n",
        "x,y,z,q,u,t = symbols(\"x y z q u t\")"
      ],
      "execution_count": null,
      "outputs": []
    },
    {
      "cell_type": "markdown",
      "metadata": {
        "id": "CiGMdfZJbkhS"
      },
      "source": [
        "## **CÁLCULO DE LÍMITES**\n",
        "\n",
        "#### *Cálculo de límites usando la función* **limit( )** de **SymPy**. \n",
        "\n",
        "### **Ejemplo 1** \n",
        "\n",
        "Calcula el **limite** de la fúnción;\n",
        "\n",
        "$$\\lim_{x \\to 0} \\dfrac{x^2-3x+1}{x+2}$$"
      ]
    },
    {
      "cell_type": "markdown",
      "metadata": {
        "id": "sGYUEtbKY-Gt"
      },
      "source": [
        "#### **Forma 1** "
      ]
    },
    {
      "cell_type": "code",
      "metadata": {
        "colab": {
          "base_uri": "https://localhost:8080/",
          "height": 38
        },
        "id": "zQ5E9TphcDc5",
        "outputId": "21c1e2ad-17a9-47b6-a961-99ed661c9293"
      },
      "source": [
        "limit((x**2-3*x+1)/(x+2), x, 0)"
      ],
      "execution_count": null,
      "outputs": [
        {
          "output_type": "execute_result",
          "data": {
            "image/png": "[encoded data removed]",
            "text/latex": "$$\\frac{1}{2}$$",
            "text/plain": [
              "1/2"
            ]
          },
          "metadata": {
            "tags": []
          },
          "execution_count": 10
        }
      ]
    },
    {
      "cell_type": "markdown",
      "metadata": {
        "id": "KSWh-Ou0ZBrx"
      },
      "source": [
        "#### **Forma 2:** "
      ]
    },
    {
      "cell_type": "code",
      "metadata": {
        "colab": {
          "base_uri": "https://localhost:8080/",
          "height": 38
        },
        "id": "r5w79lgIZAmt",
        "outputId": "042717dd-ec25-4e1e-8e6a-b050aa7b5642"
      },
      "source": [
        "fx = (x**2-3*x+1)/(x+2)\n",
        "limit(fx, x, 0)"
      ],
      "execution_count": null,
      "outputs": [
        {
          "output_type": "execute_result",
          "data": {
            "image/png": "[encoded data removed]",
            "text/latex": "$$\\frac{1}{2}$$",
            "text/plain": [
              "1/2"
            ]
          },
          "metadata": {
            "tags": []
          },
          "execution_count": 9
        }
      ]
    },
    {
      "cell_type": "markdown",
      "metadata": {
        "id": "Y7jHVrckeGbv"
      },
      "source": [
        "\n",
        "### **Ejemplo 2**: \n",
        "\n",
        "Calcula el **limite al infinito** de la fúnción;\n",
        "\n",
        "$$\\lim_{x \\to \\infty} \\dfrac{3x^2-1}{2x^2-3}$$"
      ]
    },
    {
      "cell_type": "markdown",
      "metadata": {
        "id": "ypkemNJlAFR6"
      },
      "source": [
        "#### **Forma 1** "
      ]
    },
    {
      "cell_type": "code",
      "metadata": {
        "colab": {
          "base_uri": "https://localhost:8080/",
          "height": 38
        },
        "id": "Pnky6tpbfmCp",
        "outputId": "a32455f4-fab6-4bee-fe63-3e1bc8bd92d7"
      },
      "source": [
        "limit((3*x**2-1)/(2*x**2-3), x, oo)"
      ],
      "execution_count": null,
      "outputs": [
        {
          "output_type": "execute_result",
          "data": {
            "image/png": "[encoded data removed]",
            "text/latex": "$$\\frac{3}{2}$$",
            "text/plain": [
              "3/2"
            ]
          },
          "metadata": {
            "tags": []
          },
          "execution_count": 8
        }
      ]
    },
    {
      "cell_type": "markdown",
      "metadata": {
        "id": "E7YMp2hRAkw0"
      },
      "source": [
        "#### **Forma 2** "
      ]
    },
    {
      "cell_type": "code",
      "metadata": {
        "colab": {
          "base_uri": "https://localhost:8080/",
          "height": 38
        },
        "id": "wN5-7ZA_AkxL",
        "outputId": "fa2326fa-f42a-4dab-d6d1-1d0598062fae"
      },
      "source": [
        "fx = (3*x**2-1)/(2*x**2-3)\n",
        "limit(fx, x, oo)"
      ],
      "execution_count": null,
      "outputs": [
        {
          "output_type": "execute_result",
          "data": {
            "image/png": "[encoded data removed]",
            "text/latex": "$$\\frac{3}{2}$$",
            "text/plain": [
              "3/2"
            ]
          },
          "metadata": {
            "tags": []
          },
          "execution_count": 9
        }
      ]
    },
    {
      "cell_type": "markdown",
      "metadata": {
        "id": "Texa_9MZAIHV"
      },
      "source": [
        "#### **Forma 3** "
      ]
    },
    {
      "cell_type": "code",
      "metadata": {
        "colab": {
          "base_uri": "https://localhost:8080/",
          "height": 38
        },
        "id": "D9J8mMqn_6js",
        "outputId": "cbad4513-b2aa-43f9-8c6e-a7653256ac5a"
      },
      "source": [
        "limit((3*x**2-1)/(2*x**2-3), x,S.Infinity)"
      ],
      "execution_count": null,
      "outputs": [
        {
          "output_type": "execute_result",
          "data": {
            "image/png": "[encoded data removed]",
            "text/latex": "$$\\frac{3}{2}$$",
            "text/plain": [
              "3/2"
            ]
          },
          "metadata": {
            "tags": []
          },
          "execution_count": 7
        }
      ]
    },
    {
      "cell_type": "markdown",
      "metadata": {
        "id": "rCU-yf0ndcFe"
      },
      "source": [
        "#### *Cálculo de límites usando la función* **Limit( ).doit( )** de **SymPy**. \n",
        "\n",
        "### **Ejemplo 1**: \n",
        "\n",
        "Calcula el **limite** de la fúnción\n",
        "\n",
        "$$\\lim_{x \\to 0} \\dfrac{\\sin(x)}{x}$$"
      ]
    },
    {
      "cell_type": "markdown",
      "metadata": {
        "id": "2rrwij5OZb6G"
      },
      "source": [
        "#### **Forma 1** "
      ]
    },
    {
      "cell_type": "code",
      "metadata": {
        "colab": {
          "base_uri": "https://localhost:8080/",
          "height": 37
        },
        "id": "Ce8EdzscZb6O",
        "outputId": "9feb441f-55fe-4edd-a308-29cd5654adf6"
      },
      "source": [
        "Limit(sin(x)/x, x, 0).doit()"
      ],
      "execution_count": null,
      "outputs": [
        {
          "output_type": "execute_result",
          "data": {
            "image/png": "[encoded data removed]",
            "text/latex": "$$1$$",
            "text/plain": [
              "1"
            ]
          },
          "metadata": {
            "tags": []
          },
          "execution_count": 12
        }
      ]
    },
    {
      "cell_type": "markdown",
      "metadata": {
        "id": "CLHipqsHYUQ6"
      },
      "source": [
        "#### **Forma 2** "
      ]
    },
    {
      "cell_type": "code",
      "metadata": {
        "colab": {
          "base_uri": "https://localhost:8080/",
          "height": 37
        },
        "id": "yeCXwk6FdfvV",
        "outputId": "4b7e8387-9aab-42d5-fac1-974661abf93a"
      },
      "source": [
        "fx = sin(x)/x\n",
        "Limit(fx, x, 0).doit()"
      ],
      "execution_count": null,
      "outputs": [
        {
          "output_type": "execute_result",
          "data": {
            "image/png": "[encoded data removed]",
            "text/latex": "$$1$$",
            "text/plain": [
              "1"
            ]
          },
          "metadata": {
            "tags": []
          },
          "execution_count": 13
        }
      ]
    },
    {
      "cell_type": "markdown",
      "metadata": {
        "id": "xVT_6puUv-il"
      },
      "source": [
        "### **Ejemplo 2**: \n",
        "\n",
        "calcula el **limite al infinito** de la fúnción;\n",
        "\n",
        "$$\\lim_{x \\to \\infty} \\dfrac{\\sin(x)}{x}$$"
      ]
    },
    {
      "cell_type": "code",
      "metadata": {
        "colab": {
          "base_uri": "https://localhost:8080/",
          "height": 38
        },
        "id": "-_FO0eZKv-ir",
        "outputId": "b49747ac-4ad3-4307-c689-50042441eea0"
      },
      "source": [
        "Limit(sin(x)/x, x, oo)"
      ],
      "execution_count": null,
      "outputs": [
        {
          "output_type": "execute_result",
          "data": {
            "image/png": "[encoded data removed]",
            "text/latex": "$$\\lim_{x \\to \\infty}\\left(\\frac{1}{x} \\sin{\\left (x \\right )}\\right)$$",
            "text/plain": [
              "    ⎛sin(x)⎞\n",
              "lim ⎜──────⎟\n",
              "x─→∞⎝  x   ⎠"
            ]
          },
          "metadata": {
            "tags": []
          },
          "execution_count": 4
        }
      ]
    },
    {
      "cell_type": "code",
      "metadata": {
        "colab": {
          "base_uri": "https://localhost:8080/",
          "height": 37
        },
        "id": "OzyEtmoHv-it",
        "outputId": "f9aeccb3-40e1-461f-fc28-62fe589c5e7e"
      },
      "source": [
        "Limit(sin(x)/x, x,oo).doit()"
      ],
      "execution_count": null,
      "outputs": [
        {
          "output_type": "execute_result",
          "data": {
            "image/png": "[encoded data removed]",
            "text/latex": "$$0$$",
            "text/plain": [
              "0"
            ]
          },
          "metadata": {
            "tags": []
          },
          "execution_count": 5
        }
      ]
    },
    {
      "cell_type": "markdown",
      "metadata": {
        "id": "vIF2L_D6Y5ec"
      },
      "source": [
        "## **DERIVACIÓN**\n",
        "\n",
        "## **Derivadas de primer orden** \n",
        "\n",
        "#### *Cálculo de derivadas de primer orden usando la función* **diff( )** de **SymPy**.\n",
        "\n",
        "\n",
        "### **Ejemplo 1**: \n",
        "\n",
        "Encuentra la derivada respecto a la variable $x$ de la función:\n",
        "\n",
        "$$ f(x) = \\dfrac{(x^3-1)(5x^2-3x)}{3x^3-2}$$"
      ]
    },
    {
      "cell_type": "code",
      "metadata": {
        "id": "rNGsjF5AY-1s",
        "colab": {
          "base_uri": "https://localhost:8080/",
          "height": 49
        },
        "outputId": "7d21607a-d005-4c37-a178-e9fcc0e19689"
      },
      "source": [
        "fx = (x**3-1)*(5*x**2-3*x)/(3*x**3-2) \n",
        "diff(fx,x)"
      ],
      "execution_count": null,
      "outputs": [
        {
          "output_type": "execute_result",
          "data": {
            "image/png": "[encoded data removed]",
            "text/latex": "$$- \\frac{9 x^{2}}{\\left(3 x^{3} - 2\\right)^{2}} \\left(5 x^{2} - 3 x\\right) \\left(x^{3} - 1\\right) + \\frac{3 x^{2} \\left(5 x^{2} - 3 x\\right)}{3 x^{3} - 2} + \\frac{\\left(10 x - 3\\right) \\left(x^{3} - 1\\right)}{3 x^{3} - 2}$$",
            "text/plain": [
              "     2 ⎛   2      ⎞ ⎛ 3    ⎞      2 ⎛   2      ⎞              ⎛ 3    ⎞\n",
              "  9⋅x ⋅⎝5⋅x  - 3⋅x⎠⋅⎝x  - 1⎠   3⋅x ⋅⎝5⋅x  - 3⋅x⎠   (10⋅x - 3)⋅⎝x  - 1⎠\n",
              "- ────────────────────────── + ───────────────── + ───────────────────\n",
              "                   2                   3                    3         \n",
              "         ⎛   3    ⎞                 3⋅x  - 2             3⋅x  - 2     \n",
              "         ⎝3⋅x  - 2⎠                                                   "
            ]
          },
          "metadata": {
            "tags": []
          },
          "execution_count": 6
        }
      ]
    },
    {
      "cell_type": "markdown",
      "metadata": {
        "id": "dQVw9AopPOKs"
      },
      "source": [
        "### **Ejemplo 2**: \n",
        "\n",
        "Encuentra $\\frac{df}{dx}$ de la siguiente función y luego **simplifica** esta expresión;\n",
        "\n",
        "$$ f(x) = \\dfrac{(x^3-1)(5x^2-3x)}{3x^3-2}$$\n"
      ]
    },
    {
      "cell_type": "code",
      "metadata": {
        "colab": {
          "base_uri": "https://localhost:8080/",
          "height": 40
        },
        "id": "6tGrFbKnPOK8",
        "outputId": "3ca530a6-7841-4729-97c8-d7062250e4fd"
      },
      "source": [
        "fx = (x**3-1)*(5*x**2-3*x)/(3*x**3-2) \n",
        "dfx = diff(fx,x)\n",
        "simplify(dfx)"
      ],
      "execution_count": null,
      "outputs": [
        {
          "output_type": "execute_result",
          "data": {
            "image/png": "[encoded data removed]",
            "text/latex": "$$\\frac{1}{9 x^{6} - 12 x^{3} + 4} \\left(30 x^{7} - 9 x^{6} - 35 x^{4} + 6 x^{3} + 20 x - 6\\right)$$",
            "text/plain": [
              "    7      6       4      3           \n",
              "30⋅x  - 9⋅x  - 35⋅x  + 6⋅x  + 20⋅x - 6\n",
              "──────────────────────────────────────\n",
              "              6       3               \n",
              "           9⋅x  - 12⋅x  + 4           "
            ]
          },
          "metadata": {
            "tags": []
          },
          "execution_count": 8
        }
      ]
    },
    {
      "cell_type": "markdown",
      "metadata": {
        "id": "RwLAqB7NRVq_"
      },
      "source": [
        "### **Ejemplo 3**: \n",
        "\n",
        "Encuentra $\\frac{df}{dx}$ de la siguiente función y luego **factoriza** esta expresión;\n",
        "$$ f(x) = \\frac{(x^3-1)(5x^2-3x)}{3x^3-2}$$\n"
      ]
    },
    {
      "cell_type": "code",
      "metadata": {
        "colab": {
          "base_uri": "https://localhost:8080/",
          "height": 42
        },
        "id": "K9w2Xu36RVrw",
        "outputId": "d127edb2-df0b-478d-ab3c-68cb2ac74b91"
      },
      "source": [
        "fx = (x**3-1)*(5*x**2-3*x)/(3*x**3-2) \n",
        "dfx = diff(fx,x)\n",
        "factor(dfx)"
      ],
      "execution_count": null,
      "outputs": [
        {
          "output_type": "execute_result",
          "data": {
            "image/png": "[encoded data removed]",
            "text/latex": "$$\\frac{1}{\\left(3 x^{3} - 2\\right)^{2}} \\left(30 x^{7} - 9 x^{6} - 35 x^{4} + 6 x^{3} + 20 x - 6\\right)$$",
            "text/plain": [
              "    7      6       4      3           \n",
              "30⋅x  - 9⋅x  - 35⋅x  + 6⋅x  + 20⋅x - 6\n",
              "──────────────────────────────────────\n",
              "                       2              \n",
              "             ⎛   3    ⎞               \n",
              "             ⎝3⋅x  - 2⎠               "
            ]
          },
          "metadata": {
            "tags": []
          },
          "execution_count": 9
        }
      ]
    },
    {
      "cell_type": "markdown",
      "metadata": {
        "id": "Cjqwvn6xWleE"
      },
      "source": [
        "### **Ejemplo 4**: \n",
        "Encuentra $\\frac{df}{dx}$ de la siguiente función;\n",
        "\n",
        "$$ f(x) = (5x^{3/2}-8x^{1/2}-3)(4x^3-2x-1)$$"
      ]
    },
    {
      "cell_type": "markdown",
      "metadata": {
        "id": "QiA8d6ozaySg"
      },
      "source": [
        "#### **Forma 1** "
      ]
    },
    {
      "cell_type": "code",
      "metadata": {
        "colab": {
          "base_uri": "https://localhost:8080/",
          "height": 38
        },
        "id": "oJh6o_E3PudG",
        "outputId": "2d0c4fa0-8895-4b7e-8ef7-8bc683883762"
      },
      "source": [
        "fx = (5*x**(3/2)-8*x**(1/2)-3)*(4*x**3-2*x-1)\n",
        "diff(fx)"
      ],
      "execution_count": null,
      "outputs": [
        {
          "output_type": "execute_result",
          "data": {
            "image/png": "[encoded data removed]",
            "text/latex": "$$\\left(- \\frac{4.0}{x^{0.5}} + 7.5 x^{0.5}\\right) \\left(4 x^{3} - 2 x - 1\\right) + \\left(12 x^{2} - 2\\right) \\left(- 8 x^{0.5} + 5 x^{1.5} - 3\\right)$$",
            "text/plain": [
              "⎛       -0.5        0.5⎞ ⎛   3          ⎞   ⎛    2    ⎞ ⎛     0.5      1.5    \n",
              "⎝- 4.0⋅x     + 7.5⋅x   ⎠⋅⎝4⋅x  - 2⋅x - 1⎠ + ⎝12⋅x  - 2⎠⋅⎝- 8⋅x    + 5⋅x    - 3\n",
              "\n",
              "⎞\n",
              "⎠"
            ]
          },
          "metadata": {
            "tags": []
          },
          "execution_count": 10
        }
      ]
    },
    {
      "cell_type": "markdown",
      "metadata": {
        "id": "iA8LkEZuXedm"
      },
      "source": [
        "#### **Forma 2:** Usando  la función **Rational** de **SymPy**"
      ]
    },
    {
      "cell_type": "code",
      "metadata": {
        "id": "IOoHL3qqfPFa",
        "colab": {
          "base_uri": "https://localhost:8080/",
          "height": 47
        },
        "outputId": "5e68537d-1d64-492d-c120-6d69b75c4383"
      },
      "source": [
        "fx  = (5*x**(Rational(\"3/2\"))-8*x**(Rational(\"1/2\"))-3)*(4*x**3-2*x-1)\n",
        "dfx = diff(fx).simplify()\n",
        "dfx"
      ],
      "execution_count": null,
      "outputs": [
        {
          "output_type": "execute_result",
          "data": {
            "image/png": "[encoded data removed]",
            "text/latex": "$$\\frac{1}{2 \\sqrt{x}} \\left(- 72 x^{\\frac{5}{2}} + 12 \\sqrt{x} + 180 x^{4} - 224 x^{3} - 50 x^{2} + 33 x + 8\\right)$$",
            "text/plain": [
              "      5/2                4        3       2           \n",
              "- 72⋅x    + 12⋅√x + 180⋅x  - 224⋅x  - 50⋅x  + 33⋅x + 8\n",
              "──────────────────────────────────────────────────────\n",
              "                         2⋅√x                         "
            ]
          },
          "metadata": {
            "tags": []
          },
          "execution_count": 16
        }
      ]
    },
    {
      "cell_type": "markdown",
      "metadata": {
        "id": "JANHMk1Z3dbk"
      },
      "source": [
        "### **Ejemplo 6**: \n",
        "\n",
        "Calcula el valor de la siguiente derivada;\n",
        "\n",
        "$$ \\dfrac{d}{dx}\\left(\\left.\\frac{3x}{x^2-5}\\right)\\right |_{x= 3} $$\n",
        "\n"
      ]
    },
    {
      "cell_type": "code",
      "metadata": {
        "colab": {
          "base_uri": "https://localhost:8080/",
          "height": 38
        },
        "id": "o2U6-xyw3dbu",
        "outputId": "24d6f4a6-e781-4778-e852-6ee4947d5e33"
      },
      "source": [
        "fx  = 3*x/(x**2-5)\n",
        "dfx = diff(fx)\n",
        "dfx.subs(x,3)"
      ],
      "execution_count": null,
      "outputs": [
        {
          "output_type": "execute_result",
          "data": {
            "image/png": "[encoded data removed]",
            "text/latex": "$$- \\frac{21}{8}$$",
            "text/plain": [
              "-21/8"
            ]
          },
          "metadata": {
            "tags": []
          },
          "execution_count": 18
        }
      ]
    },
    {
      "cell_type": "markdown",
      "metadata": {
        "id": "2QZp__n_zTaR"
      },
      "source": [
        "\n",
        "#### *Cálculo de derivadas de primer orden usando la función* **Derivative( ).doit( )** de **SymPy**."
      ]
    },
    {
      "cell_type": "markdown",
      "metadata": {
        "id": "_HY8KTe7oyK9"
      },
      "source": [
        "### **Ejemplo 7**: \n",
        "\n",
        "Encuentra $\\frac{df}{dx}$ de la siguiente función y luego **factoriza** el resultado:\n",
        "\n",
        "$$ f(x) = \\dfrac{(x^3-1)(5x^2-3x)}{3x^3-2}$$"
      ]
    },
    {
      "cell_type": "code",
      "metadata": {
        "colab": {
          "base_uri": "https://localhost:8080/",
          "height": 57
        },
        "id": "QBvCnCJdo2Kn",
        "outputId": "e9eef7b6-ce6f-47a0-9acd-103feda0517e"
      },
      "source": [
        "fx = (x**3-1)*(5*x**2-3*x)/(3*x**3-2)\n",
        "dfx = Derivative(fx, x)\n",
        "dfx"
      ],
      "execution_count": null,
      "outputs": [
        {
          "output_type": "execute_result",
          "data": {
            "image/png": "[encoded data removed]",
            "text/latex": "$$\\frac{d}{d x}\\left(\\frac{\\left(5 x^{2} - 3 x\\right) \\left(x^{3} - 1\\right)}{3 x^{3} - 2}\\right)$$",
            "text/plain": [
              "  ⎛⎛   2      ⎞ ⎛ 3    ⎞⎞\n",
              "d ⎜⎝5⋅x  - 3⋅x⎠⋅⎝x  - 1⎠⎟\n",
              "──⎜─────────────────────⎟\n",
              "dx⎜          3          ⎟\n",
              "  ⎝       3⋅x  - 2      ⎠"
            ]
          },
          "metadata": {
            "tags": []
          },
          "execution_count": 19
        }
      ]
    },
    {
      "cell_type": "code",
      "metadata": {
        "colab": {
          "base_uri": "https://localhost:8080/",
          "height": 49
        },
        "id": "1Dh9aKv2pozj",
        "outputId": "59392ead-8ee9-4913-a05f-66ac730f8e3d"
      },
      "source": [
        "dfx.doit()"
      ],
      "execution_count": null,
      "outputs": [
        {
          "output_type": "execute_result",
          "data": {
            "image/png": "[encoded data removed]",
            "text/latex": "$$- \\frac{9 x^{2}}{\\left(3 x^{3} - 2\\right)^{2}} \\left(5 x^{2} - 3 x\\right) \\left(x^{3} - 1\\right) + \\frac{3 x^{2} \\left(5 x^{2} - 3 x\\right)}{3 x^{3} - 2} + \\frac{\\left(10 x - 3\\right) \\left(x^{3} - 1\\right)}{3 x^{3} - 2}$$",
            "text/plain": [
              "     2 ⎛   2      ⎞ ⎛ 3    ⎞      2 ⎛   2      ⎞              ⎛ 3    ⎞\n",
              "  9⋅x ⋅⎝5⋅x  - 3⋅x⎠⋅⎝x  - 1⎠   3⋅x ⋅⎝5⋅x  - 3⋅x⎠   (10⋅x - 3)⋅⎝x  - 1⎠\n",
              "- ────────────────────────── + ───────────────── + ───────────────────\n",
              "                   2                   3                    3         \n",
              "         ⎛   3    ⎞                 3⋅x  - 2             3⋅x  - 2     \n",
              "         ⎝3⋅x  - 2⎠                                                   "
            ]
          },
          "metadata": {
            "tags": []
          },
          "execution_count": 20
        }
      ]
    },
    {
      "cell_type": "code",
      "metadata": {
        "colab": {
          "base_uri": "https://localhost:8080/",
          "height": 42
        },
        "id": "LDVMGHaxpxl5",
        "outputId": "dba27977-7696-4f5b-9901-b86922e66d62"
      },
      "source": [
        "factor(dfx.doit())"
      ],
      "execution_count": null,
      "outputs": [
        {
          "output_type": "execute_result",
          "data": {
            "image/png": "[encoded data removed]",
            "text/latex": "$$\\frac{1}{\\left(3 x^{3} - 2\\right)^{2}} \\left(30 x^{7} - 9 x^{6} - 35 x^{4} + 6 x^{3} + 20 x - 6\\right)$$",
            "text/plain": [
              "    7      6       4      3           \n",
              "30⋅x  - 9⋅x  - 35⋅x  + 6⋅x  + 20⋅x - 6\n",
              "──────────────────────────────────────\n",
              "                       2              \n",
              "             ⎛   3    ⎞               \n",
              "             ⎝3⋅x  - 2⎠               "
            ]
          },
          "metadata": {
            "tags": []
          },
          "execution_count": 21
        }
      ]
    },
    {
      "cell_type": "markdown",
      "metadata": {
        "id": "HMjRI4yvFYuG"
      },
      "source": [
        "### **Ejemplo 8**: \n",
        "\n",
        "Calcula el valor de la siguiente derivada;\n",
        "\n",
        "$$ \\dfrac{d}{dx}\\left(\\left.\\frac{3x}{x^2-5}\\right)\\right |_{x= 3} $$\n",
        "\n"
      ]
    },
    {
      "cell_type": "code",
      "metadata": {
        "colab": {
          "base_uri": "https://localhost:8080/",
          "height": 38
        },
        "id": "iHJ4fkcbFYuH",
        "outputId": "d8fd03c4-5a6a-4d84-e559-43998a386673"
      },
      "source": [
        "fx  = 3*x/(x**2-5)\n",
        "dfx = diff(fx)\n",
        "simplify(dfx).subs(x,3)"
      ],
      "execution_count": null,
      "outputs": [
        {
          "output_type": "execute_result",
          "data": {
            "image/png": "[encoded data removed]",
            "text/latex": "$$- \\frac{21}{8}$$",
            "text/plain": [
              "-21/8"
            ]
          },
          "metadata": {
            "tags": []
          },
          "execution_count": 39
        }
      ]
    },
    {
      "cell_type": "markdown",
      "metadata": {
        "id": "6rPKflZ2-2aj"
      },
      "source": [
        "# **VERIFICACIÓN DE DERIVADAS**"
      ]
    },
    {
      "cell_type": "code",
      "metadata": {
        "colab": {
          "base_uri": "https://localhost:8080/",
          "height": 58
        },
        "id": "VcHcjq7vEYBg",
        "outputId": "f0fd4d46-d12c-4927-9b8a-4e3adad14fc8"
      },
      "source": [
        "f = sqrt(x+sqrt(x+sqrt(x)))\n",
        "f"
      ],
      "execution_count": null,
      "outputs": [
        {
          "output_type": "execute_result",
          "data": {
            "image/png": "[encoded data removed]",
            "text/latex": "$\\displaystyle \\sqrt{x + \\sqrt{\\sqrt{x} + x}}$",
            "text/plain": [
              "   ________________\n",
              "  ╱       ________ \n",
              "╲╱  x + ╲╱ √x + x  "
            ]
          },
          "metadata": {},
          "execution_count": 4
        }
      ]
    },
    {
      "cell_type": "markdown",
      "metadata": {
        "id": "F1HKWn8B_JDe"
      },
      "source": [
        "## **Derivada con Python**"
      ]
    },
    {
      "cell_type": "code",
      "metadata": {
        "colab": {
          "base_uri": "https://localhost:8080/",
          "height": 69
        },
        "id": "Qb8yN27HEkx2",
        "outputId": "9b9f6eeb-087f-41c3-ea0d-7c7850e4c5b9"
      },
      "source": [
        "dfp= expand(diff(f))\n",
        "dfp"
      ],
      "execution_count": null,
      "outputs": [
        {
          "output_type": "execute_result",
          "data": {
            "image/png": "[encoded data removed]",
            "text/latex": "$\\displaystyle \\frac{1}{2 \\sqrt{x + \\sqrt{\\sqrt{x} + x}}} + \\frac{1}{4 \\sqrt{\\sqrt{x} + x} \\sqrt{x + \\sqrt{\\sqrt{x} + x}}} + \\frac{1}{8 \\sqrt{x} \\sqrt{\\sqrt{x} + x} \\sqrt{x + \\sqrt{\\sqrt{x} + x}}}$",
            "text/plain": [
              "          1                            1                                    1 \n",
              "───────────────────── + ──────────────────────────────── + ───────────────────\n",
              "     ________________                   ________________                      \n",
              "    ╱       ________        ________   ╱       ________           ________   ╱\n",
              "2⋅╲╱  x + ╲╱ √x + x     4⋅╲╱ √x + x ⋅╲╱  x + ╲╱ √x + x     8⋅√x⋅╲╱ √x + x ⋅╲╱ \n",
              "\n",
              "                \n",
              "────────────────\n",
              "________________\n",
              "       ________ \n",
              " x + ╲╱ √x + x  "
            ]
          },
          "metadata": {},
          "execution_count": 5
        }
      ]
    },
    {
      "cell_type": "markdown",
      "metadata": {
        "id": "9Wxq8hVF_aEl"
      },
      "source": [
        "## **Derivada con sin técnología**"
      ]
    },
    {
      "cell_type": "code",
      "metadata": {
        "colab": {
          "base_uri": "https://localhost:8080/",
          "height": 69
        },
        "id": "YSPkjbYoFDz6",
        "outputId": "32406e2e-5144-440e-865f-0140c3d7e45c"
      },
      "source": [
        "dfm = expand( S(\"1/2\")*(1/(sqrt(x+sqrt(x+sqrt(x)))))*(1+(S(\"1/2\")*1/sqrt(x+sqrt(x))*(1+S(\"1/2\")*1/sqrt(x)))))\n",
        "dfm"
      ],
      "execution_count": null,
      "outputs": [
        {
          "output_type": "execute_result",
          "data": {
            "image/png": "[encoded data removed]",
            "text/latex": "$\\displaystyle \\frac{1}{2 \\sqrt{x + \\sqrt{\\sqrt{x} + x}}} + \\frac{1}{4 \\sqrt{\\sqrt{x} + x} \\sqrt{x + \\sqrt{\\sqrt{x} + x}}} + \\frac{1}{8 \\sqrt{x} \\sqrt{\\sqrt{x} + x} \\sqrt{x + \\sqrt{\\sqrt{x} + x}}}$",
            "text/plain": [
              "          1                            1                                    1 \n",
              "───────────────────── + ──────────────────────────────── + ───────────────────\n",
              "     ________________                   ________________                      \n",
              "    ╱       ________        ________   ╱       ________           ________   ╱\n",
              "2⋅╲╱  x + ╲╱ √x + x     4⋅╲╱ √x + x ⋅╲╱  x + ╲╱ √x + x     8⋅√x⋅╲╱ √x + x ⋅╲╱ \n",
              "\n",
              "                \n",
              "────────────────\n",
              "________________\n",
              "       ________ \n",
              " x + ╲╱ √x + x  "
            ]
          },
          "metadata": {},
          "execution_count": 15
        }
      ]
    },
    {
      "cell_type": "markdown",
      "metadata": {
        "id": "aDxpr3CK_nmM"
      },
      "source": [
        "## **Verificación**"
      ]
    },
    {
      "cell_type": "code",
      "metadata": {
        "colab": {
          "base_uri": "https://localhost:8080/",
          "height": 37
        },
        "id": "SC24qjOcGSgA",
        "outputId": "ce2e4010-aeb1-4d51-c858-da039b0e4333"
      },
      "source": [
        "simplify(dfp-dfm)"
      ],
      "execution_count": null,
      "outputs": [
        {
          "output_type": "execute_result",
          "data": {
            "image/png": "[encoded data removed]",
            "text/latex": "$\\displaystyle 0$",
            "text/plain": [
              "0"
            ]
          },
          "metadata": {},
          "execution_count": 14
        }
      ]
    },
    {
      "cell_type": "markdown",
      "metadata": {
        "id": "3Ko4aZRAD6gv"
      },
      "source": [
        "## **Ecuación de la recta tangente** \n",
        "\n",
        "Encuentra la ecuación de la recta tangente a la función $f(x)=\\frac{1}{2}x^2$ en $x_0=1$"
      ]
    },
    {
      "cell_type": "code",
      "metadata": {
        "colab": {
          "base_uri": "https://localhost:8080/",
          "height": 38
        },
        "id": "kkKQVKjzD5Fh",
        "outputId": "e2937bf1-dd13-45cd-9e42-538ed5d2e7b2"
      },
      "source": [
        "y,m,b = symbols(\"y m b\")\n",
        "\n",
        "#Definimos la función\n",
        "f = S(1,2)*x**2\n",
        "\n",
        "# Definimos el punto\n",
        "x0 = 1\n",
        "y0 = f.subs(x,x0)\n",
        "\n",
        "\n",
        "# Hallamos la función derivada\n",
        "df = diff(f)\n",
        "\n",
        "# Hallamos la pendiente de la recta tangente\n",
        "m = diff(f).subs(x,x0)\n",
        "\n",
        "# Definimos la ecuación para hallar la interseccion con el eje y\n",
        "Ecu = Eq(y0, m*x0 + b)\n",
        "\n",
        "# Resolvemos la ecuación\n",
        "Sol = solve(Ecu)\n",
        "\n",
        "# Construimos la ecuación de la recta tangente\n",
        "Eq(y, m*x + Sol[0])\n"
      ],
      "execution_count": null,
      "outputs": [
        {
          "output_type": "execute_result",
          "data": {
            "image/png": "[encoded data removed]",
            "text/latex": "$$y = 2 x - 1$$",
            "text/plain": [
              "y = 2⋅x - 1"
            ]
          },
          "metadata": {
            "tags": []
          },
          "execution_count": 29
        }
      ]
    },
    {
      "cell_type": "markdown",
      "metadata": {
        "id": "vaHl3NNxqLOq"
      },
      "source": [
        "## **Derivadas de orden superior** \n",
        "\n",
        "#### *Cálculo de derivadas de orden superior usando la función* **diff(  )** de **SymPy**.\n",
        "\n",
        "### **Ejemplo 1**: \n",
        "\n",
        "Encuentra $\\frac{d^2x}{dx^2}$ de la siguiente función y luego **simplifica** el resultado:\n",
        "\n",
        "$$ f(x) = \\dfrac{x}{x^2-1}$$"
      ]
    },
    {
      "cell_type": "code",
      "metadata": {
        "colab": {
          "base_uri": "https://localhost:8080/",
          "height": 49
        },
        "id": "BAclrtdtrBNa",
        "outputId": "d8bfd725-d75e-4fa1-82ca-6a052c90e968"
      },
      "source": [
        "simplify(diff(x/(x**2-1),x,2))"
      ],
      "execution_count": null,
      "outputs": [
        {
          "output_type": "execute_result",
          "data": {
            "image/png": "[encoded data removed]",
            "text/latex": "$$\\frac{2 x \\left(x^{2} + 3\\right)}{\\left(x^{2} - 1\\right)^{3}}$$",
            "text/plain": [
              "    ⎛ 2    ⎞\n",
              "2⋅x⋅⎝x  + 3⎠\n",
              "────────────\n",
              "         3  \n",
              " ⎛ 2    ⎞   \n",
              " ⎝x  - 1⎠   "
            ]
          },
          "metadata": {
            "tags": []
          },
          "execution_count": 22
        }
      ]
    },
    {
      "cell_type": "markdown",
      "metadata": {
        "id": "iOBuW5Ws4J_z"
      },
      "source": [
        "#### *Cálculo de derivadas de orden superior usando la función* **Derivative(  ).doit(  )** de **SymPy**.\n",
        "\n",
        "### **Ejemplo 2**: \n",
        "\n",
        "Encuentra $\\frac{d^2x}{dx^2}$ de la siguiente función y luego **factoriza** el resultado:\n",
        "\n",
        "$$ f(x) = \\dfrac{x}{x^2-1}$$"
      ]
    },
    {
      "cell_type": "code",
      "metadata": {
        "colab": {
          "base_uri": "https://localhost:8080/",
          "height": 41
        },
        "id": "C1Tn0Vyj4KAA",
        "outputId": "7d19c74c-7012-42a7-ae28-436c357f493f"
      },
      "source": [
        "fx = x/(x**2-1)\n",
        "ddfx = Derivative(x/(x**2-1),x,2)\n",
        "ddfx"
      ],
      "execution_count": null,
      "outputs": [
        {
          "output_type": "execute_result",
          "data": {
            "image/png": "[encoded data removed]",
            "text/latex": "$$\\frac{d^{2}}{d x^{2}} \\left(\\frac{x}{x^{2} - 1}\\right)$$",
            "text/plain": [
              "  2        \n",
              " d ⎛  x   ⎞\n",
              "───⎜──────⎟\n",
              "  2⎜ 2    ⎟\n",
              "dx ⎝x  - 1⎠"
            ]
          },
          "metadata": {
            "tags": []
          },
          "execution_count": 25
        }
      ]
    },
    {
      "cell_type": "code",
      "metadata": {
        "colab": {
          "base_uri": "https://localhost:8080/",
          "height": 47
        },
        "id": "8uEpxw2Q4gkY",
        "outputId": "dfef15c8-fd55-4f85-bab3-1680ddc2f4bf"
      },
      "source": [
        "ddfx.doit()"
      ],
      "execution_count": null,
      "outputs": [
        {
          "output_type": "execute_result",
          "data": {
            "image/png": "[encoded data removed]",
            "text/latex": "$$\\frac{2 x}{\\left(x^{2} - 1\\right)^{2}} \\left(\\frac{4 x^{2}}{x^{2} - 1} - 3\\right)$$",
            "text/plain": [
              "    ⎛    2     ⎞\n",
              "    ⎜ 4⋅x      ⎟\n",
              "2⋅x⋅⎜────── - 3⎟\n",
              "    ⎜ 2        ⎟\n",
              "    ⎝x  - 1    ⎠\n",
              "────────────────\n",
              "           2    \n",
              "   ⎛ 2    ⎞     \n",
              "   ⎝x  - 1⎠     "
            ]
          },
          "metadata": {
            "tags": []
          },
          "execution_count": 26
        }
      ]
    },
    {
      "cell_type": "code",
      "metadata": {
        "colab": {
          "base_uri": "https://localhost:8080/",
          "height": 49
        },
        "id": "U_udu8AK4lwl",
        "outputId": "9fd063f7-9ffa-4944-f8f3-36283373b722"
      },
      "source": [
        "factor(ddfx.doit())"
      ],
      "execution_count": null,
      "outputs": [
        {
          "output_type": "execute_result",
          "data": {
            "image/png": "[encoded data removed]",
            "text/latex": "$$\\frac{2 x \\left(x^{2} + 3\\right)}{\\left(x - 1\\right)^{3} \\left(x + 1\\right)^{3}}$$",
            "text/plain": [
              "       ⎛ 2    ⎞  \n",
              "   2⋅x⋅⎝x  + 3⎠  \n",
              "─────────────────\n",
              "       3        3\n",
              "(x - 1) ⋅(x + 1) "
            ]
          },
          "metadata": {
            "tags": []
          },
          "execution_count": 27
        }
      ]
    },
    {
      "cell_type": "markdown",
      "metadata": {
        "id": "tlznJ3vOH0eF"
      },
      "source": [
        "\n",
        "\n",
        "### **Ejemplo 3**: \n",
        "\n",
        "Cálcula el resultado de la siguiente derivada :\n",
        "\n",
        "$$ \\dfrac{d^2}{d x^2}\\left(\\left.\\frac{x}{x^2-1}\\right)\\right |_{x= 2} $$"
      ]
    },
    {
      "cell_type": "code",
      "metadata": {
        "colab": {
          "base_uri": "https://localhost:8080/",
          "height": 38
        },
        "id": "5_QKcUH7LzzV",
        "outputId": "25892133-f6f1-4739-b60e-c1b0a8467fab"
      },
      "source": [
        "fx = x/(x**2-1)\n",
        "ddfx = Derivative(x/(x**2-1),x,2).doit()\n",
        "ddfx.subs(x,2)"
      ],
      "execution_count": null,
      "outputs": [
        {
          "output_type": "execute_result",
          "data": {
            "image/png": "[encoded data removed]",
            "text/latex": "$$\\frac{28}{27}$$",
            "text/plain": [
              "28\n",
              "──\n",
              "27"
            ]
          },
          "metadata": {
            "tags": []
          },
          "execution_count": 41
        }
      ]
    },
    {
      "cell_type": "markdown",
      "metadata": {
        "id": "rOY1jnZ6X7TX"
      },
      "source": [
        "## **DERIVACIÓN IMPLÍCITA**\n",
        "\n",
        "## **Derivada implícita de primer orden**\n",
        "\n",
        "### **Ejemplo 1**: \n",
        "\n",
        "Encuentra $\\frac{dy}{dx}$ de la expresión:\n",
        "\n",
        "$$ 3y^2x^2 + 3x- 4y + 5xy = 0$$\n"
      ]
    },
    {
      "cell_type": "code",
      "metadata": {
        "colab": {
          "base_uri": "https://localhost:8080/",
          "height": 43
        },
        "id": "vikBvtELX6Nn",
        "outputId": "f6d12980-5e66-4829-8204-784dfac3da94"
      },
      "source": [
        "idiff(3*(y**2)*(x**2)+ 3*x - 4*y + 5*x*y,y,x)"
      ],
      "execution_count": null,
      "outputs": [
        {
          "output_type": "execute_result",
          "data": {
            "image/png": "[encoded data removed]",
            "text/latex": "$$- \\frac{6 x y^{2} + 5 y + 3}{6 x^{2} y + 5 x - 4}$$",
            "text/plain": [
              " ⎛     2          ⎞ \n",
              "-⎝6⋅x⋅y  + 5⋅y + 3⎠ \n",
              "────────────────────\n",
              "     2              \n",
              "  6⋅x ⋅y + 5⋅x - 4  "
            ]
          },
          "metadata": {
            "tags": []
          },
          "execution_count": 36
        }
      ]
    },
    {
      "cell_type": "markdown",
      "metadata": {
        "id": "s6XU9UwUOqAo"
      },
      "source": [
        "### **Ejemplo 2**: \n",
        "\n",
        "Encuentra $\\left.\\frac{dy}{d x}\\right |_{x= 2,y=3}$ de la expresión:\n",
        "\n",
        "$$ 3y^2 + 5x^2 = 3x$$"
      ]
    },
    {
      "cell_type": "code",
      "metadata": {
        "colab": {
          "base_uri": "https://localhost:8080/",
          "height": 38
        },
        "id": "GcEEvLdPOqBF",
        "outputId": "02696ef4-4e40-421b-a21d-185eaa5a3b64"
      },
      "source": [
        "exp =3*(y**2) + 5*x**2 - 3*x\n",
        "dexp = idiff(exp,y,x)\n",
        "dexp.subs(x,2).subs(y,3)"
      ],
      "execution_count": null,
      "outputs": [
        {
          "output_type": "execute_result",
          "data": {
            "image/png": "[encoded data removed]",
            "text/latex": "$$- \\frac{17}{18}$$",
            "text/plain": [
              "-17 \n",
              "────\n",
              " 18 "
            ]
          },
          "metadata": {
            "tags": []
          },
          "execution_count": 47
        }
      ]
    },
    {
      "cell_type": "markdown",
      "metadata": {
        "id": "YDkGOzcnmgdk"
      },
      "source": [
        "## **Derivada implícita orden superior**\n",
        "\n",
        "### **Ejemplo 1**: \n",
        "\n",
        "Encuentra $\\dfrac{d^2y}{dx^2}$ de la expresión y **simplifica**;\n",
        "\n",
        "$$ 3y^2 + 5x^2 = 3x$$"
      ]
    },
    {
      "cell_type": "code",
      "metadata": {
        "colab": {
          "base_uri": "https://localhost:8080/",
          "height": 47
        },
        "id": "UYqf0m8lkWNZ",
        "outputId": "65bb0c84-a676-4b95-d056-582bc2470051"
      },
      "source": [
        "simplify(idiff(3*(y**2) + 5*x**2 - 3*x ,y,x,2))"
      ],
      "execution_count": null,
      "outputs": [
        {
          "output_type": "execute_result",
          "data": {
            "image/png": "[encoded data removed]",
            "text/latex": "$$- \\frac{1}{36 y^{3}} \\left(60 y^{2} + \\left(10 x - 3\\right)^{2}\\right)$$",
            "text/plain": [
              " ⎛    2             2⎞ \n",
              "-⎝60⋅y  + (10⋅x - 3) ⎠ \n",
              "───────────────────────\n",
              "             3         \n",
              "         36⋅y          "
            ]
          },
          "metadata": {
            "tags": []
          },
          "execution_count": 46
        }
      ]
    },
    {
      "cell_type": "markdown",
      "metadata": {
        "id": "EFhvbkAPw_f2"
      },
      "source": [
        "### **Ejemplo 2**: \n",
        "\n",
        "Encuentra $\\dfrac{d^2y}{dx^2}$ de la expresión:\n",
        "\n",
        "$$ 3y^2 + 5x^2 = 3x$$"
      ]
    },
    {
      "cell_type": "code",
      "metadata": {
        "colab": {
          "base_uri": "https://localhost:8080/",
          "height": 47
        },
        "id": "uy3Euo7bw_f5",
        "outputId": "bef3506b-17ae-4ab1-9b58-21c0db1bb1c6"
      },
      "source": [
        "exp =3*(y**2) + 5*x**2 - 3*x\n",
        "dexp = idiff(Ec,y,x,2)\n",
        "simplify(dexp)"
      ],
      "execution_count": null,
      "outputs": [
        {
          "output_type": "execute_result",
          "data": {
            "image/png": "[encoded data removed]",
            "text/latex": "$$- \\frac{1}{36 y^{3}} \\left(60 y^{2} + \\left(10 x - 3\\right)^{2}\\right)$$",
            "text/plain": [
              " ⎛    2             2⎞ \n",
              "-⎝60⋅y  + (10⋅x - 3) ⎠ \n",
              "───────────────────────\n",
              "             3         \n",
              "         36⋅y          "
            ]
          },
          "metadata": {
            "tags": []
          },
          "execution_count": 35
        }
      ]
    }
  ]
}