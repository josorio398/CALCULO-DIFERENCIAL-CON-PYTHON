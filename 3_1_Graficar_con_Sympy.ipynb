{
  "nbformat": 4,
  "nbformat_minor": 0,
  "metadata": {
    "colab": {
      "name": "3_1 Graficar con Sympy.ipynb",
      "provenance": [],
      "collapsed_sections": [],
      "include_colab_link": true
    },
    "kernelspec": {
      "name": "python3",
      "display_name": "Python 3"
    }
  },
  "cells": [
    {
      "cell_type": "markdown",
      "metadata": {
        "id": "view-in-github",
        "colab_type": "text"
      },
      "source": [
        "<a href=\"https://colab.research.google.com/github/josorio398/CALCULO-DIFERENCIAL-CON-PYTHON/blob/main/3_1_Graficar_con_Sympy.ipynb\" target=\"_parent\"><img src=\"https://colab.research.google.com/assets/colab-badge.svg\" alt=\"Open In Colab\"/></a>"
      ]
    },
    {
      "cell_type": "markdown",
      "metadata": {
        "id": "do39ckUf6YSS"
      },
      "source": [
        "#3.1 Módulo `SymPy` como herramienta para graficar"
      ]
    },
    {
      "cell_type": "markdown",
      "metadata": {
        "id": "lbER9rKS6fcQ"
      },
      "source": [
        "El módulo [`SymPy`](https://docs.sympy.org/latest/index.html) es una librería de Python que nos permite realizar cálculo simbólico. Como siempre, para poder acceder a ella y utilizar sus funciones, lo primero que debemos hacer es importarla.\n",
        "\n",
        "**Maneras en las que podemos importar `SymPy`:**  \n",
        "\n",
        "\n",
        "1.  `import sympy` \n",
        "2. `import sympy as sym`     (*renombrar SymPy como sym*)\n",
        "3. `from sympy import *`     (*importar todas las funciones de SymPy. Aunque no es muy recomendable importar de esta manera*)\n",
        "4. `from sympy import 'nombre de funciones separadas por comas'`     (*importar solo algunas funciones*)"
      ]
    },
    {
      "cell_type": "code",
      "metadata": {
        "id": "rLglhHq46ACK"
      },
      "source": [
        "# Importar el módulo SymPy\n",
        "import sympy as sym"
      ],
      "execution_count": null,
      "outputs": []
    },
    {
      "cell_type": "markdown",
      "metadata": {
        "id": "D_YEGXqA-a3x"
      },
      "source": [
        "Una vez que hemos importado este módulo, lo siguiente es definir los __símbolos__ o __variables__ que usaremos. Por ejemplo, si vamos a realizar operaciones con la variable `x` debemos definirla de la siguiente manera:"
      ]
    },
    {
      "cell_type": "code",
      "metadata": {
        "id": "_W07twss_Edl"
      },
      "source": [
        "x = sym.symbols('x')"
      ],
      "execution_count": null,
      "outputs": []
    },
    {
      "cell_type": "markdown",
      "metadata": {
        "id": "GWMxxI51_Mva"
      },
      "source": [
        "Si queremos usar las variables `x` e `y` las definiremos como:"
      ]
    },
    {
      "cell_type": "code",
      "metadata": {
        "id": "_8ALdSSu_UdB"
      },
      "source": [
        "x, y = sym.symbols('x, y')"
      ],
      "execution_count": null,
      "outputs": []
    },
    {
      "cell_type": "markdown",
      "metadata": {
        "id": "UBav1VlmFKlV"
      },
      "source": [
        "Ya que tenemos definidos nuestros _símbolos_, podemos empezar a realizar [_cálculo simbólico_](https://docs.sympy.org/latest/tutorial/intro.html). Por el momento, nosotros nos enfocarémos en usarlos como una herramienta para realizar gráficas de funciones."
      ]
    },
    {
      "cell_type": "markdown",
      "metadata": {
        "id": "UzlmAKRi_YoG"
      },
      "source": [
        "## Módulo Plotting"
      ]
    },
    {
      "cell_type": "markdown",
      "metadata": {
        "id": "MjDkaJfx_2uo"
      },
      "source": [
        "Entre las funciones de SymPy tenemos [Plotting](https://docs.sympy.org/latest/modules/plotting.html), la cual nos permite realizar gráficas en dimensión 2 y 3. Este módulo está basado en el módulo [`matplotlib`](https://matplotlib.org/3.1.1/index.html)."
      ]
    },
    {
      "cell_type": "markdown",
      "metadata": {
        "id": "H37HHK3_Ey39"
      },
      "source": [
        "### Graficar funciones en 2d\n",
        "\n",
        "La estructura general para graficar una función es la siguiente:\n",
        "\n",
        "`plot(expr, range, **kwargs)`\n",
        "\n",
        "* `expr`: es la expresión de la función que queremos graficar. \n",
        "\n",
        "* `range`:  es una 3-tupla de la forma `(variable, a, b)`, donde `a` < `b` son los límites del rango en el queremos visualizar de nuestra gráfica.\n",
        "\n",
        "*  `**kwargs`: son instrucciones adicionales del trazo de la gráfica: color, etiquetas, tipo de línea.\n",
        "\n"
      ]
    },
    {
      "cell_type": "markdown",
      "metadata": {
        "id": "GsqO8DxJHGvD"
      },
      "source": [
        "Supongamos que necesitamos graficar la función en una variable $f(x)= x$."
      ]
    },
    {
      "cell_type": "code",
      "metadata": {
        "id": "gfiL0xT6Mgsj"
      },
      "source": [
        "# Gráfica de una funcion en una variable\n",
        "from sympy import symbols\n",
        "from sympy.plotting import plot\n",
        "\n",
        "x = symbols('x')\n",
        "\n",
        "plot(x, (x, -5, 5))"
      ],
      "execution_count": null,
      "outputs": []
    },
    {
      "cell_type": "markdown",
      "metadata": {
        "id": "hY9HuOS-Nf-Z"
      },
      "source": [
        "Si queremos graficar más de una función en un mismo plano y con el mismo rango, lo que debemos hacer es agregar todas las funciones separadas por una coma."
      ]
    },
    {
      "cell_type": "code",
      "metadata": {
        "id": "I6VZzrscNuYQ"
      },
      "source": [
        "# Gráficas de varias funciones en una variable\n",
        "from sympy import symbols\n",
        "from sympy.plotting import plot\n",
        "\n",
        "x = symbols('x')\n",
        "\n",
        "plot(x, 2*x, 3-x, (x, -5, 5))"
      ],
      "execution_count": null,
      "outputs": []
    },
    {
      "cell_type": "markdown",
      "metadata": {
        "id": "Yzu6pMrkOZ0S"
      },
      "source": [
        "Si queremos graficar varias funciones pero con diferente rango, debemos usar el formato:\n",
        "\n",
        "`plot((funcion,rango), (funcion, rango))`"
      ]
    },
    {
      "cell_type": "code",
      "metadata": {
        "id": "Iz7jCiVyOTKj"
      },
      "source": [
        "# Gráficas de varias funciones en una variable con diferentes rango\n",
        "from sympy import symbols\n",
        "from sympy.plotting import plot\n",
        "\n",
        "x = symbols('x')\n",
        "\n",
        "plot((x**2, (x, -6, 6)), (x, (x, -5, 5)))"
      ],
      "execution_count": null,
      "outputs": []
    },
    {
      "cell_type": "markdown",
      "metadata": {
        "id": "PneezYHyoqA0"
      },
      "source": [
        "__Ejercicio:__ *Graficar dos funciones en un mismo plano*. Escribe dos ejemplos, el primero con dos funciones distintas sobre el mismo rango y el segundo con dos funciones distintas sobre diferentes rangos."
      ]
    },
    {
      "cell_type": "code",
      "metadata": {
        "id": "Njay0l1Kot85"
      },
      "source": [
        "# Ejercicio 1\n"
      ],
      "execution_count": null,
      "outputs": []
    },
    {
      "cell_type": "code",
      "metadata": {
        "id": "sSICLbkUovpj"
      },
      "source": [
        "# Ejercicio 2\n"
      ],
      "execution_count": null,
      "outputs": []
    },
    {
      "cell_type": "markdown",
      "metadata": {
        "id": "MTzfKxUZPE_U"
      },
      "source": [
        "### Graficar funciones en 3d\n",
        "\n",
        "La estructura general es muy similar al caso 2d:\n",
        "\n",
        "`plot3d(expr, range_x, range_y, **kwargs)`\n",
        "\n",
        "* `expr`: expresión de la función que queremos graficar. \n",
        "\n",
        "* `range_x,range_y`:  son 3-tupla de la forma `(variable, a, b)`, donde `a` < `b` son los límites del rango en el queremos visualizar de nuestra gráfica.\n",
        "\n",
        "*  `**kwargs`: son instrucciones adicionales del trazo de la gráfica: color, etiquetas, tipo de línea.\n",
        "\n"
      ]
    },
    {
      "cell_type": "markdown",
      "metadata": {
        "id": "7r-YUQntPh5W"
      },
      "source": [
        "Supongamos que ahora tenemos una función en dos variables $f(x,y)$ y que queremos graficarla. "
      ]
    },
    {
      "cell_type": "code",
      "metadata": {
        "id": "XhLa479iO39o"
      },
      "source": [
        "# Gráfica de una función en dos variables \n",
        "from sympy import symbols\n",
        "from sympy.plotting import plot3d\n",
        "\n",
        "x , y = symbols('x y')\n",
        "\n",
        "plot3d(x + y, (x, -5, 5), (y, -5, 5))"
      ],
      "execution_count": null,
      "outputs": []
    },
    {
      "cell_type": "markdown",
      "metadata": {
        "id": "fjzLOUBwQc7z"
      },
      "source": [
        "## Graficar funciones implícitas en dos variables"
      ]
    },
    {
      "cell_type": "markdown",
      "metadata": {
        "id": "bK0TYRvpRJpd"
      },
      "source": [
        "También podemos graficar funciones implícitas o regiones del plano o espacio. La estructura es muy similar, solo que ahora debemos importar `plot_implicit` de SymPy y la función `Eq` con la cual podemos definir ecuaciones.\n",
        "\n",
        "La estructura general es muy similar a lo visto anteriormente:\n",
        "\n",
        "`plot_implicit(expr, (x , x_min, x_max), (y , y_min, y_max) , **kwargs)`\n",
        "\n",
        "**Ejemplo:** Graficar $x + y = 1$."
      ]
    },
    {
      "cell_type": "code",
      "metadata": {
        "id": "lvMEBXqARI6P"
      },
      "source": [
        "# Gráfica de una función implicita\n",
        "from sympy import symbols\n",
        "from sympy import plot_implicit, Eq\n",
        "\n",
        "x, y = symbols('x, y')\n",
        "\n",
        "plot_implicit(Eq(x + y, 1)) # sin especificar un rango"
      ],
      "execution_count": null,
      "outputs": []
    },
    {
      "cell_type": "code",
      "metadata": {
        "id": "_10Hs0LkSVYN"
      },
      "source": [
        "plot_implicit(Eq(x + y, 1), (x, -3, 3), (y, -3, 3)) # especificando un rango"
      ],
      "execution_count": null,
      "outputs": []
    },
    {
      "cell_type": "markdown",
      "metadata": {
        "id": "AaSKx69zTXOn"
      },
      "source": [
        "__Ejercicio:__ Grafica las siguientes funciones: \n",
        "\n",
        "* $x^{2}+y^{2}=1$"
      ]
    },
    {
      "cell_type": "code",
      "metadata": {
        "id": "Ch7hLX2nTSkD"
      },
      "source": [
        ""
      ],
      "execution_count": null,
      "outputs": []
    },
    {
      "cell_type": "markdown",
      "metadata": {
        "id": "sgki6FD6WCoz"
      },
      "source": [
        "* $x + y = 5$"
      ]
    },
    {
      "cell_type": "code",
      "metadata": {
        "id": "nOKQoWnWWK1X"
      },
      "source": [
        ""
      ],
      "execution_count": null,
      "outputs": []
    },
    {
      "cell_type": "markdown",
      "metadata": {
        "id": "tM6S-nr_WL3_"
      },
      "source": [
        "* $x^{2} + y = 0$"
      ]
    },
    {
      "cell_type": "code",
      "metadata": {
        "id": "zxsBEhosWSH-"
      },
      "source": [
        ""
      ],
      "execution_count": null,
      "outputs": []
    },
    {
      "cell_type": "markdown",
      "metadata": {
        "id": "nXY5HDSwWULJ"
      },
      "source": [
        "Ademas de graficar estas funciones, también podemos graficar subconjuntos del plano. \n",
        "\n",
        "__Ejemplo:__ Graficar la región del plano definida por la función $y > x^{2}$."
      ]
    },
    {
      "cell_type": "code",
      "metadata": {
        "id": "9gdnI2OcWnbu"
      },
      "source": [
        "# Grafica de regiones del plano\n",
        "from sympy import symbols\n",
        "from sympy import plot_implicit, Eq\n",
        "\n",
        "x, y = symbols('x, y')\n",
        "\n",
        "plot_implicit(y > x**2)  # sin especificar el rango de las variables"
      ],
      "execution_count": null,
      "outputs": []
    },
    {
      "cell_type": "code",
      "metadata": {
        "id": "AtZyiYpfWxa2"
      },
      "source": [
        "plot_implicit(y > x**2, (x, -3, 3), (y, -9, 9)) # especificando el rango de las variables"
      ],
      "execution_count": null,
      "outputs": []
    },
    {
      "cell_type": "markdown",
      "metadata": {
        "id": "APOd7-AdXPTt"
      },
      "source": [
        "__Ejercicio:__ Realiza las siguientes gráficas.\n",
        "\n",
        "* $x + y > 0$"
      ]
    },
    {
      "cell_type": "code",
      "metadata": {
        "id": "qUW9gdFFYjeH"
      },
      "source": [
        ""
      ],
      "execution_count": null,
      "outputs": []
    },
    {
      "cell_type": "markdown",
      "metadata": {
        "id": "ie-BYKqcaaeO"
      },
      "source": [
        "* $y^{2} > 4$"
      ]
    },
    {
      "cell_type": "code",
      "metadata": {
        "id": "QhbEBJzpafxQ"
      },
      "source": [
        ""
      ],
      "execution_count": null,
      "outputs": []
    },
    {
      "cell_type": "markdown",
      "metadata": {
        "id": "nYdO-Cghak22"
      },
      "source": [
        "* $x^{2}+y^{2}< 1$"
      ]
    },
    {
      "cell_type": "code",
      "metadata": {
        "id": "m1Qduul4asLz"
      },
      "source": [
        ""
      ],
      "execution_count": null,
      "outputs": []
    }
  ]
}