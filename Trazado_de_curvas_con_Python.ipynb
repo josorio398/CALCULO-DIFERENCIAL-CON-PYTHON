{
  "nbformat": 4,
  "nbformat_minor": 0,
  "metadata": {
    "colab": {
      "name": "Trazado de curvas con Python.ipynb",
      "provenance": [],
      "collapsed_sections": [],
      "authorship_tag": "ABX9TyMy/27GJIgLpqJPUP5EeMCD",
      "include_colab_link": true
    },
    "kernelspec": {
      "name": "python3",
      "display_name": "Python 3"
    },
    "language_info": {
      "name": "python"
    }
  },
  "cells": [
    {
      "cell_type": "markdown",
      "metadata": {
        "id": "view-in-github",
        "colab_type": "text"
      },
      "source": [
        "<a href=\"https://colab.research.google.com/github/josorio398/CALCULO-DIFERENCIAL-CON-PYTHON/blob/main/Trazado_de_curvas_con_Python.ipynb\" target=\"_parent\"><img src=\"https://colab.research.google.com/assets/colab-badge.svg\" alt=\"Open In Colab\"/></a>"
      ]
    },
    {
      "cell_type": "markdown",
      "metadata": {
        "id": "RVxHpsbcExUD"
      },
      "source": [
        " <p><img alt=\"logo.fua\" height=\"100px\" src=\"https://github.com/josorio398/ALGEBRA-LINEAL-CON-PYTHON/blob/master/im%C3%A1genes%20repositorio/Logo%20UAm%C3%A9rica%20nuevo%202021.ai_page-0005.jpg?raw=true\" align=\"left\" hspace=\"0px\" vspace=\"0px\"></p>\n",
        "\n",
        "<p><img alt=\"logo.fua\" height=\"26px\" src=\"https://mirrors.creativecommons.org/presskit/buttons/88x31/svg/by-nd.svg\" align=\"right\" hspace=\"0px\" vspace=\"11px\"></p>\n",
        "\n",
        "\n",
        "<center> <font size=\"6\"><b>CALCULO DIFERENCIAL CON PYTHON &nbsp; &nbsp; &nbsp;&nbsp;</b><center><I>Jhonny Osorio Gallego</I> &nbsp; &nbsp;&nbsp; &nbsp;&nbsp;&nbsp;&nbsp; &nbsp; &nbsp;&nbsp; &nbsp;<p></font></center>  \n",
        " "
      ]
    },
    {
      "cell_type": "markdown",
      "metadata": {
        "id": "pELON3yz_46g"
      },
      "source": [
        "#**TRAZADO DE CURVAS**"
      ]
    },
    {
      "cell_type": "markdown",
      "metadata": {
        "id": "U515Q-sM2m9k"
      },
      "source": [
        "##**LIBRERÍA SIMBÓLICA SYMPY**\n",
        "**SymPy** es una biblioteca de Python para matemáticas simbólicas. Su objetivo es convertirse en un sistema de álgebra computacional (CAS) con todas las funciones, manteniendo el código lo más simple posible para que sea comprensible y fácilmente extensible. SymPy está escrito completamente en Python.[sympy.org](https://www.sympy.org/en/index.html)"
      ]
    },
    {
      "cell_type": "code",
      "metadata": {
        "id": "4wHJ9dZ3405h"
      },
      "source": [
        "from sympy import *\n",
        "from sympy.calculus.util import continuous_domain\n",
        "init_printing() \n",
        "x,y = symbols(\"x y\",real = True)\n",
        "f = Function('f', real = True)"
      ],
      "execution_count": 62,
      "outputs": []
    },
    {
      "cell_type": "markdown",
      "source": [
        "#**Ejemplo:**\n",
        "Usa los pasos vistos en clase para realizar el trazado de la siguiente curva:\n",
        "\n",
        "$$f(x)=x^3-12x^2+36x$$"
      ],
      "metadata": {
        "id": "peuakWt24NAC"
      }
    },
    {
      "cell_type": "code",
      "source": [
        "f = x**3-12*x**2+36*x\n",
        "f "
      ],
      "metadata": {
        "colab": {
          "base_uri": "https://localhost:8080/",
          "height": 38
        },
        "id": "evYWtVK-9frn",
        "outputId": "09dcf85b-119b-4f1e-e720-071d02ac3c6f"
      },
      "execution_count": 75,
      "outputs": [
        {
          "output_type": "execute_result",
          "data": {
            "text/plain": [
              " 3       2       \n",
              "x  - 12⋅x  + 36⋅x"
            ],
            "image/png": "[encoded data removed]",
            "text/latex": "$\\displaystyle x^{3} - 12 x^{2} + 36 x$"
          },
          "metadata": {},
          "execution_count": 75
        }
      ]
    },
    {
      "cell_type": "markdown",
      "source": [
        "##  **Dominio**"
      ],
      "metadata": {
        "id": "6_sMESRz6Thb"
      }
    },
    {
      "cell_type": "code",
      "source": [
        "continuous_domain(f, x, S.Reals)"
      ],
      "metadata": {
        "colab": {
          "base_uri": "https://localhost:8080/",
          "height": 38
        },
        "id": "Qm8NikPk8wrh",
        "outputId": "f7838577-3f7b-4459-923a-551b71a26ff6"
      },
      "execution_count": 76,
      "outputs": [
        {
          "output_type": "execute_result",
          "data": {
            "text/plain": [
              "ℝ"
            ],
            "image/png": "[encoded data removed]",
            "text/latex": "$\\displaystyle \\mathbb{R}$"
          },
          "metadata": {},
          "execution_count": 76
        }
      ]
    },
    {
      "cell_type": "markdown",
      "source": [
        "##   **Rango**"
      ],
      "metadata": {
        "id": "YJ89wBBg-HcU"
      }
    },
    {
      "cell_type": "code",
      "source": [
        "continuous_domain(solve(f - y,x)[0], y, S.Reals)"
      ],
      "metadata": {
        "colab": {
          "base_uri": "https://localhost:8080/",
          "height": 37
        },
        "id": "MHfdO-CC-GeJ",
        "outputId": "4e3b43fa-5227-49a7-ce32-bc287ba462b1"
      },
      "execution_count": 77,
      "outputs": [
        {
          "output_type": "execute_result",
          "data": {
            "text/plain": [
              "(-∞, 0] ∪ [32, ∞)"
            ],
            "image/png": "[encoded data removed]",
            "text/latex": "$\\displaystyle \\left(-\\infty, 0\\right] \\cup \\left[32, \\infty\\right)$"
          },
          "metadata": {},
          "execution_count": 77
        }
      ]
    },
    {
      "cell_type": "markdown",
      "source": [
        "##   **Intersección con el eje y:**  ($x=0$)\n"
      ],
      "metadata": {
        "id": "tdFtNZiuFltc"
      }
    },
    {
      "cell_type": "code",
      "source": [
        "Eq(y,f).subs(x,0)"
      ],
      "metadata": {
        "colab": {
          "base_uri": "https://localhost:8080/",
          "height": 38
        },
        "id": "AXng1KZYFoN_",
        "outputId": "a12c65f5-1504-40fa-c4c4-97ce199342b9"
      },
      "execution_count": 80,
      "outputs": [
        {
          "output_type": "execute_result",
          "data": {
            "text/plain": [
              "y = 0"
            ],
            "image/png": "[encoded data removed]",
            "text/latex": "$\\displaystyle y = 0$"
          },
          "metadata": {},
          "execution_count": 80
        }
      ]
    },
    {
      "cell_type": "markdown",
      "source": [
        "##   **Intersección con el eje x:**   ($y=0$)"
      ],
      "metadata": {
        "id": "LjfaN9ndFWo8"
      }
    },
    {
      "cell_type": "code",
      "source": [
        "Eq(y,f).subs(y,0)"
      ],
      "metadata": {
        "colab": {
          "base_uri": "https://localhost:8080/",
          "height": 38
        },
        "id": "Ud3_4SlLFfwx",
        "outputId": "cac26394-4ef4-4c71-86f6-18fa388f1836"
      },
      "execution_count": 81,
      "outputs": [
        {
          "output_type": "execute_result",
          "data": {
            "text/plain": [
              "     3       2       \n",
              "0 = x  - 12⋅x  + 36⋅x"
            ],
            "image/png": "[encoded data removed]",
            "text/latex": "$\\displaystyle 0 = x^{3} - 12 x^{2} + 36 x$"
          },
          "metadata": {},
          "execution_count": 81
        }
      ]
    },
    {
      "cell_type": "code",
      "source": [
        "solve(Eq(y,f).subs(y,0))"
      ],
      "metadata": {
        "colab": {
          "base_uri": "https://localhost:8080/",
          "height": 37
        },
        "id": "YgOI7MjVGv8w",
        "outputId": "34bdca91-b281-4ddc-9937-3dc79f1fd78e"
      },
      "execution_count": 82,
      "outputs": [
        {
          "output_type": "execute_result",
          "data": {
            "text/plain": [
              "[0, 6]"
            ],
            "image/png": "[encoded data removed]",
            "text/latex": "$\\displaystyle \\left[ 0, \\  6\\right]$"
          },
          "metadata": {},
          "execution_count": 82
        }
      ]
    },
    {
      "cell_type": "markdown",
      "source": [
        "##   **Primera derivada**"
      ],
      "metadata": {
        "id": "juijp6s9HrJF"
      }
    },
    {
      "cell_type": "code",
      "source": [
        "df = diff(f)\n",
        "df"
      ],
      "metadata": {
        "colab": {
          "base_uri": "https://localhost:8080/",
          "height": 38
        },
        "id": "C3cMdc6kHlag",
        "outputId": "bd57d4a3-b4c8-40c6-ef57-1ec0bc205c23"
      },
      "execution_count": 91,
      "outputs": [
        {
          "output_type": "execute_result",
          "data": {
            "text/plain": [
              "   2            \n",
              "3⋅x  - 24⋅x + 36"
            ],
            "image/png": "[encoded data removed]",
            "text/latex": "$\\displaystyle 3 x^{2} - 24 x + 36$"
          },
          "metadata": {},
          "execution_count": 91
        }
      ]
    },
    {
      "cell_type": "code",
      "source": [
        "factor(df)"
      ],
      "metadata": {
        "colab": {
          "base_uri": "https://localhost:8080/",
          "height": 38
        },
        "id": "nBrw-Hr4HqRS",
        "outputId": "2bb227bd-81f8-48e6-cebf-f9cbbd85f574"
      },
      "execution_count": 93,
      "outputs": [
        {
          "output_type": "execute_result",
          "data": {
            "text/plain": [
              "3⋅(x - 6)⋅(x - 2)"
            ],
            "image/png": "[encoded data removed]",
            "text/latex": "$\\displaystyle 3 \\left(x - 6\\right) \\left(x - 2\\right)$"
          },
          "metadata": {},
          "execution_count": 93
        }
      ]
    },
    {
      "cell_type": "markdown",
      "source": [
        "##   **Puntos críticos** "
      ],
      "metadata": {
        "id": "ZbQmTlfNIrR4"
      }
    },
    {
      "cell_type": "code",
      "source": [
        "solve(df)"
      ],
      "metadata": {
        "colab": {
          "base_uri": "https://localhost:8080/",
          "height": 37
        },
        "id": "2hcTbSJDIuvT",
        "outputId": "fe372aab-2e94-42a2-b1b5-fbef97e31f2e"
      },
      "execution_count": 96,
      "outputs": [
        {
          "output_type": "execute_result",
          "data": {
            "text/plain": [
              "[2, 6]"
            ],
            "image/png": "[encoded data removed]",
            "text/latex": "$\\displaystyle \\left[ 2, \\  6\\right]$"
          },
          "metadata": {},
          "execution_count": 96
        }
      ]
    },
    {
      "cell_type": "markdown",
      "source": [
        "##   **Intervalos de crecimiento y decrecimiento** \n",
        "\n",
        "### **Creciente**"
      ],
      "metadata": {
        "id": "zwD1dw0uI9Mb"
      }
    },
    {
      "cell_type": "code",
      "source": [
        "solve(df>0).as_set()"
      ],
      "metadata": {
        "colab": {
          "base_uri": "https://localhost:8080/",
          "height": 37
        },
        "id": "n8JJDclHI6Ef",
        "outputId": "92b4bd27-df18-4d5f-b0e0-e7df8d8a4057"
      },
      "execution_count": 98,
      "outputs": [
        {
          "output_type": "execute_result",
          "data": {
            "text/plain": [
              "(-∞, 2) ∪ (6, ∞)"
            ],
            "image/png": "[encoded data removed]",
            "text/latex": "$\\displaystyle \\left(-\\infty, 2\\right) \\cup \\left(6, \\infty\\right)$"
          },
          "metadata": {},
          "execution_count": 98
        }
      ]
    },
    {
      "cell_type": "markdown",
      "source": [
        "### **Decreciente**"
      ],
      "metadata": {
        "id": "BNkwODi5J9Az"
      }
    },
    {
      "cell_type": "code",
      "source": [
        "solve(df<0).as_set()"
      ],
      "metadata": {
        "colab": {
          "base_uri": "https://localhost:8080/",
          "height": 37
        },
        "id": "BJAcYFr7KAqE",
        "outputId": "8d0c1530-2b4f-4381-fb3f-2801c3f8e3d9"
      },
      "execution_count": 99,
      "outputs": [
        {
          "output_type": "execute_result",
          "data": {
            "text/plain": [
              "(2, 6)"
            ],
            "image/png": "[encoded data removed]",
            "text/latex": "$\\displaystyle \\left(2, 6\\right)$"
          },
          "metadata": {},
          "execution_count": 99
        }
      ]
    },
    {
      "cell_type": "markdown",
      "source": [
        "##   **Segunda derivada**"
      ],
      "metadata": {
        "id": "g9IrLg2EKWKu"
      }
    },
    {
      "cell_type": "code",
      "source": [
        "ddf = diff(df)\n",
        "ddf"
      ],
      "metadata": {
        "colab": {
          "base_uri": "https://localhost:8080/",
          "height": 38
        },
        "id": "jgFizGYFKTno",
        "outputId": "995ac19f-950e-4a69-e7a1-71a1fb1a2f06"
      },
      "execution_count": 100,
      "outputs": [
        {
          "output_type": "execute_result",
          "data": {
            "text/plain": [
              "6⋅x - 24"
            ],
            "image/png": "[encoded data removed]",
            "text/latex": "$\\displaystyle 6 x - 24$"
          },
          "metadata": {},
          "execution_count": 100
        }
      ]
    },
    {
      "cell_type": "code",
      "source": [
        "factor(ddf)"
      ],
      "metadata": {
        "colab": {
          "base_uri": "https://localhost:8080/",
          "height": 38
        },
        "id": "vBhUpK9ZKko3",
        "outputId": "1ffde201-079c-4f66-da37-b0926610cb09"
      },
      "execution_count": 101,
      "outputs": [
        {
          "output_type": "execute_result",
          "data": {
            "text/plain": [
              "6⋅(x - 4)"
            ],
            "image/png": "[encoded data removed]",
            "text/latex": "$\\displaystyle 6 \\left(x - 4\\right)$"
          },
          "metadata": {},
          "execution_count": 101
        }
      ]
    },
    {
      "cell_type": "markdown",
      "source": [
        "##   **Posibles puntos de inflexión**"
      ],
      "metadata": {
        "id": "N-1Rw2ywKp8p"
      }
    },
    {
      "cell_type": "code",
      "source": [
        "solve(ddf)"
      ],
      "metadata": {
        "colab": {
          "base_uri": "https://localhost:8080/",
          "height": 37
        },
        "id": "0CPwoWSFKkMQ",
        "outputId": "11dd4298-6b40-444c-aae6-a91103acc0c0"
      },
      "execution_count": 102,
      "outputs": [
        {
          "output_type": "execute_result",
          "data": {
            "text/plain": [
              "[4]"
            ],
            "image/png": "[encoded data removed]",
            "text/latex": "$\\displaystyle \\left[ 4\\right]$"
          },
          "metadata": {},
          "execution_count": 102
        }
      ]
    },
    {
      "cell_type": "markdown",
      "source": [
        "##   **Intervalos de concavidad** \n",
        "\n",
        "### **Cóncava hacia arriba**"
      ],
      "metadata": {
        "id": "WWUHBwLbK5Zg"
      }
    },
    {
      "cell_type": "code",
      "source": [
        "solve(ddf>0).as_set()"
      ],
      "metadata": {
        "colab": {
          "base_uri": "https://localhost:8080/",
          "height": 37
        },
        "outputId": "d2d7b7f5-7511-4937-a9ba-4c52324971ac",
        "id": "ZLJB7j77K5aD"
      },
      "execution_count": 104,
      "outputs": [
        {
          "output_type": "execute_result",
          "data": {
            "text/plain": [
              "(4, ∞)"
            ],
            "image/png": "[encoded data removed]",
            "text/latex": "$\\displaystyle \\left(4, \\infty\\right)$"
          },
          "metadata": {},
          "execution_count": 104
        }
      ]
    },
    {
      "cell_type": "markdown",
      "source": [
        "### **Cóncava hacia abajo**"
      ],
      "metadata": {
        "id": "8BX9YLAbK5aG"
      }
    },
    {
      "cell_type": "code",
      "source": [
        "solve(ddf<0).as_set()"
      ],
      "metadata": {
        "colab": {
          "base_uri": "https://localhost:8080/",
          "height": 37
        },
        "outputId": "d58f1bb5-b234-4d14-8e2e-850ae744ffa5",
        "id": "_go9po8DK5aH"
      },
      "execution_count": 106,
      "outputs": [
        {
          "output_type": "execute_result",
          "data": {
            "text/plain": [
              "(-∞, 4)"
            ],
            "image/png": "[encoded data removed]",
            "text/latex": "$\\displaystyle \\left(-\\infty, 4\\right)$"
          },
          "metadata": {},
          "execution_count": 106
        }
      ]
    },
    {
      "cell_type": "markdown",
      "source": [
        "##   **Asintotas horizontales** "
      ],
      "metadata": {
        "id": "WudrmGRILXN0"
      }
    },
    {
      "cell_type": "code",
      "source": [
        "limit(f,x,oo)"
      ],
      "metadata": {
        "colab": {
          "base_uri": "https://localhost:8080/",
          "height": 37
        },
        "id": "lCRGxtuGLava",
        "outputId": "4a992d84-f19e-47c8-a292-400e0e1fe994"
      },
      "execution_count": 107,
      "outputs": [
        {
          "output_type": "execute_result",
          "data": {
            "text/plain": [
              "∞"
            ],
            "image/png": "[encoded data removed]",
            "text/latex": "$\\displaystyle \\infty$"
          },
          "metadata": {},
          "execution_count": 107
        }
      ]
    },
    {
      "cell_type": "code",
      "source": [
        "limit(f,x,-oo)"
      ],
      "metadata": {
        "colab": {
          "base_uri": "https://localhost:8080/",
          "height": 37
        },
        "id": "xj4sdQZGLhMk",
        "outputId": "096e0d23-615a-40b8-fd2d-29e6f897b637"
      },
      "execution_count": 108,
      "outputs": [
        {
          "output_type": "execute_result",
          "data": {
            "text/plain": [
              "-∞"
            ],
            "image/png": "[encoded data removed]",
            "text/latex": "$\\displaystyle -\\infty$"
          },
          "metadata": {},
          "execution_count": 108
        }
      ]
    },
    {
      "cell_type": "markdown",
      "source": [
        "##   **Gráfica de la función** "
      ],
      "metadata": {
        "id": "bOkFXib0LwtE"
      }
    },
    {
      "cell_type": "code",
      "source": [
        "plot(f,(x,-5,11))"
      ],
      "metadata": {
        "colab": {
          "base_uri": "https://localhost:8080/",
          "height": 315
        },
        "id": "2CpEwRiUL0Kd",
        "outputId": "6e5f9f10-e5f4-4283-d83d-7e983fc6045a"
      },
      "execution_count": 120,
      "outputs": [
        {
          "output_type": "display_data",
          "data": {
            "text/plain": [
              "<Figure size 432x288 with 1 Axes>"
            ],
            "image/png": "[encoded data removed]"
          },
          "metadata": {
            "needs_background": "light"
          }
        },
        {
          "output_type": "execute_result",
          "data": {
            "text/plain": [
              "<sympy.plotting.plot.Plot at 0x7f16fe7e9b50>"
            ]
          },
          "metadata": {},
          "execution_count": 120
        }
      ]
    }
  ]
}