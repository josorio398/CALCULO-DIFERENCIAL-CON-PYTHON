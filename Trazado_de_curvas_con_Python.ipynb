{
  "nbformat": 4,
  "nbformat_minor": 0,
  "metadata": {
    "colab": {
      "name": "Trazado de curvas con Python.ipynb",
      "provenance": [],
      "collapsed_sections": [],
      "authorship_tag": "ABX9TyNgl0GIXZBsyy8xRLzQsHvz",
      "include_colab_link": true
    },
    "kernelspec": {
      "name": "python3",
      "display_name": "Python 3"
    },
    "language_info": {
      "name": "python"
    }
  },
  "cells": [
    {
      "cell_type": "markdown",
      "metadata": {
        "id": "view-in-github",
        "colab_type": "text"
      },
      "source": [
        "<a href=\"https://colab.research.google.com/github/josorio398/CALCULO-DIFERENCIAL-CON-PYTHON/blob/main/Trazado_de_curvas_con_Python.ipynb\" target=\"_parent\"><img src=\"https://colab.research.google.com/assets/colab-badge.svg\" alt=\"Open In Colab\"/></a>"
      ]
    },
    {
      "cell_type": "markdown",
      "metadata": {
        "id": "RVxHpsbcExUD"
      },
      "source": [
        " <p><img alt=\"logo.fua\" height=\"100px\" src=\"https://github.com/josorio398/ALGEBRA-LINEAL-CON-PYTHON/blob/master/im%C3%A1genes%20repositorio/Logo%20UAm%C3%A9rica%20nuevo%202021.ai_page-0005.jpg?raw=true\" align=\"left\" hspace=\"0px\" vspace=\"0px\"></p>\n",
        "\n",
        "<p><img alt=\"logo.fua\" height=\"26px\" src=\"https://mirrors.creativecommons.org/presskit/buttons/88x31/svg/by-nd.svg\" align=\"right\" hspace=\"0px\" vspace=\"11px\"></p>\n",
        "\n",
        "\n",
        "<center> <font size=\"6\"><b>CALCULO DIFERENCIAL CON PYTHON &nbsp; &nbsp; &nbsp;&nbsp;</b><center><I>Jhonny Osorio Gallego</I> &nbsp; &nbsp;&nbsp; &nbsp;&nbsp;&nbsp;&nbsp; &nbsp; &nbsp;&nbsp; &nbsp;<p></font></center>  \n",
        " "
      ]
    },
    {
      "cell_type": "markdown",
      "metadata": {
        "id": "pELON3yz_46g"
      },
      "source": [
        "#**TRAZADO DE CURVAS**"
      ]
    },
    {
      "cell_type": "markdown",
      "metadata": {
        "id": "U515Q-sM2m9k"
      },
      "source": [
        "##**LIBRERÍA SIMBÓLICA SYMPY**\n",
        "**SymPy** es una biblioteca de Python para matemáticas simbólicas. Su objetivo es convertirse en un sistema de álgebra computacional (CAS) con todas las funciones, manteniendo el código lo más simple posible para que sea comprensible y fácilmente extensible. SymPy está escrito completamente en Python.[sympy.org](https://www.sympy.org/en/index.html)"
      ]
    },
    {
      "cell_type": "code",
      "metadata": {
        "id": "4wHJ9dZ3405h"
      },
      "source": [
        "from sympy import *\n",
        "from sympy.calculus.util import continuous_domain\n",
        "init_printing() \n",
        "x,y = symbols(\"x y\",real = True)\n",
        "f = Function('f', real = True)"
      ],
      "execution_count": 2,
      "outputs": []
    },
    {
      "cell_type": "markdown",
      "source": [
        "#**Ejemplo:**\n",
        "Usa los pasos vistos en clase para realizar el trazado de la siguiente curva:\n",
        "\n",
        "$$f(x)=x^3-12x^2+36x$$"
      ],
      "metadata": {
        "id": "peuakWt24NAC"
      }
    },
    {
      "cell_type": "code",
      "source": [
        "f = x**3-12*x**2+36*x\n",
        "f "
      ],
      "metadata": {
        "colab": {
          "base_uri": "https://localhost:8080/",
          "height": 38
        },
        "id": "evYWtVK-9frn",
        "outputId": "c6735e85-0d52-46c3-85d7-c3a0cbedea5f"
      },
      "execution_count": 3,
      "outputs": [
        {
          "output_type": "execute_result",
          "data": {
            "text/plain": [
              " 3       2       \n",
              "x  - 12⋅x  + 36⋅x"
            ],
            "image/png": "[encoded data removed]",
            "text/latex": "$\\displaystyle x^{3} - 12 x^{2} + 36 x$"
          },
          "metadata": {},
          "execution_count": 3
        }
      ]
    },
    {
      "cell_type": "markdown",
      "source": [
        "##  **Dominio**"
      ],
      "metadata": {
        "id": "6_sMESRz6Thb"
      }
    },
    {
      "cell_type": "code",
      "source": [
        "continuous_domain(f, x, S.Reals)"
      ],
      "metadata": {
        "colab": {
          "base_uri": "https://localhost:8080/",
          "height": 38
        },
        "id": "Qm8NikPk8wrh",
        "outputId": "25e06d79-cc5e-43b2-ceb6-b05a91f542c3"
      },
      "execution_count": 4,
      "outputs": [
        {
          "output_type": "execute_result",
          "data": {
            "text/plain": [
              "ℝ"
            ],
            "image/png": "[encoded data removed]",
            "text/latex": "$\\displaystyle \\mathbb{R}$"
          },
          "metadata": {},
          "execution_count": 4
        }
      ]
    },
    {
      "cell_type": "markdown",
      "source": [
        "##   **Intersección con el eje y:**  ($x=0$)\n"
      ],
      "metadata": {
        "id": "tdFtNZiuFltc"
      }
    },
    {
      "cell_type": "code",
      "source": [
        "Eq(y,f).subs(x,0)"
      ],
      "metadata": {
        "colab": {
          "base_uri": "https://localhost:8080/",
          "height": 38
        },
        "id": "AXng1KZYFoN_",
        "outputId": "a12c65f5-1504-40fa-c4c4-97ce199342b9"
      },
      "execution_count": null,
      "outputs": [
        {
          "output_type": "execute_result",
          "data": {
            "text/plain": [
              "y = 0"
            ],
            "image/png": "[encoded data removed]",
            "text/latex": "$\\displaystyle y = 0$"
          },
          "metadata": {},
          "execution_count": 80
        }
      ]
    },
    {
      "cell_type": "markdown",
      "source": [
        "##   **Intersección con el eje x:**   ($y=0$)"
      ],
      "metadata": {
        "id": "LjfaN9ndFWo8"
      }
    },
    {
      "cell_type": "code",
      "source": [
        "Eq(y,f).subs(y,0)"
      ],
      "metadata": {
        "colab": {
          "base_uri": "https://localhost:8080/",
          "height": 38
        },
        "id": "Ud3_4SlLFfwx",
        "outputId": "cac26394-4ef4-4c71-86f6-18fa388f1836"
      },
      "execution_count": null,
      "outputs": [
        {
          "output_type": "execute_result",
          "data": {
            "text/plain": [
              "     3       2       \n",
              "0 = x  - 12⋅x  + 36⋅x"
            ],
            "image/png": "[encoded data removed]",
            "text/latex": "$\\displaystyle 0 = x^{3} - 12 x^{2} + 36 x$"
          },
          "metadata": {},
          "execution_count": 81
        }
      ]
    },
    {
      "cell_type": "code",
      "source": [
        "solve(Eq(y,f).subs(y,0))"
      ],
      "metadata": {
        "colab": {
          "base_uri": "https://localhost:8080/",
          "height": 37
        },
        "id": "YgOI7MjVGv8w",
        "outputId": "34bdca91-b281-4ddc-9937-3dc79f1fd78e"
      },
      "execution_count": null,
      "outputs": [
        {
          "output_type": "execute_result",
          "data": {
            "text/plain": [
              "[0, 6]"
            ],
            "image/png": "[encoded data removed]",
            "text/latex": "$\\displaystyle \\left[ 0, \\  6\\right]$"
          },
          "metadata": {},
          "execution_count": 82
        }
      ]
    },
    {
      "cell_type": "markdown",
      "source": [
        "##   **Primera derivada**"
      ],
      "metadata": {
        "id": "juijp6s9HrJF"
      }
    },
    {
      "cell_type": "code",
      "source": [
        "df = diff(f)\n",
        "df"
      ],
      "metadata": {
        "colab": {
          "base_uri": "https://localhost:8080/",
          "height": 38
        },
        "id": "C3cMdc6kHlag",
        "outputId": "bd57d4a3-b4c8-40c6-ef57-1ec0bc205c23"
      },
      "execution_count": null,
      "outputs": [
        {
          "output_type": "execute_result",
          "data": {
            "text/plain": [
              "   2            \n",
              "3⋅x  - 24⋅x + 36"
            ],
            "image/png": "[encoded data removed]",
            "text/latex": "$\\displaystyle 3 x^{2} - 24 x + 36$"
          },
          "metadata": {},
          "execution_count": 91
        }
      ]
    },
    {
      "cell_type": "code",
      "source": [
        "factor(df)"
      ],
      "metadata": {
        "colab": {
          "base_uri": "https://localhost:8080/",
          "height": 38
        },
        "id": "nBrw-Hr4HqRS",
        "outputId": "2bb227bd-81f8-48e6-cebf-f9cbbd85f574"
      },
      "execution_count": null,
      "outputs": [
        {
          "output_type": "execute_result",
          "data": {
            "text/plain": [
              "3⋅(x - 6)⋅(x - 2)"
            ],
            "image/png": "[encoded data removed]",
            "text/latex": "$\\displaystyle 3 \\left(x - 6\\right) \\left(x - 2\\right)$"
          },
          "metadata": {},
          "execution_count": 93
        }
      ]
    },
    {
      "cell_type": "markdown",
      "source": [
        "##   **Puntos críticos** "
      ],
      "metadata": {
        "id": "ZbQmTlfNIrR4"
      }
    },
    {
      "cell_type": "code",
      "source": [
        "solve(df)"
      ],
      "metadata": {
        "colab": {
          "base_uri": "https://localhost:8080/",
          "height": 37
        },
        "id": "2hcTbSJDIuvT",
        "outputId": "fe372aab-2e94-42a2-b1b5-fbef97e31f2e"
      },
      "execution_count": null,
      "outputs": [
        {
          "output_type": "execute_result",
          "data": {
            "text/plain": [
              "[2, 6]"
            ],
            "image/png": "[encoded data removed]",
            "text/latex": "$\\displaystyle \\left[ 2, \\  6\\right]$"
          },
          "metadata": {},
          "execution_count": 96
        }
      ]
    },
    {
      "cell_type": "markdown",
      "source": [
        "##   **Intervalos de crecimiento y decrecimiento** \n",
        "\n",
        "### **Creciente**"
      ],
      "metadata": {
        "id": "zwD1dw0uI9Mb"
      }
    },
    {
      "cell_type": "code",
      "source": [
        "solve(df>0).as_set()"
      ],
      "metadata": {
        "colab": {
          "base_uri": "https://localhost:8080/",
          "height": 37
        },
        "id": "n8JJDclHI6Ef",
        "outputId": "92b4bd27-df18-4d5f-b0e0-e7df8d8a4057"
      },
      "execution_count": null,
      "outputs": [
        {
          "output_type": "execute_result",
          "data": {
            "text/plain": [
              "(-∞, 2) ∪ (6, ∞)"
            ],
            "image/png": "[encoded data removed]",
            "text/latex": "$\\displaystyle \\left(-\\infty, 2\\right) \\cup \\left(6, \\infty\\right)$"
          },
          "metadata": {},
          "execution_count": 98
        }
      ]
    },
    {
      "cell_type": "markdown",
      "source": [
        "### **Decreciente**"
      ],
      "metadata": {
        "id": "BNkwODi5J9Az"
      }
    },
    {
      "cell_type": "code",
      "source": [
        "solve(df<0).as_set()"
      ],
      "metadata": {
        "colab": {
          "base_uri": "https://localhost:8080/",
          "height": 37
        },
        "id": "BJAcYFr7KAqE",
        "outputId": "8d0c1530-2b4f-4381-fb3f-2801c3f8e3d9"
      },
      "execution_count": null,
      "outputs": [
        {
          "output_type": "execute_result",
          "data": {
            "text/plain": [
              "(2, 6)"
            ],
            "image/png": "[encoded data removed]",
            "text/latex": "$\\displaystyle \\left(2, 6\\right)$"
          },
          "metadata": {},
          "execution_count": 99
        }
      ]
    },
    {
      "cell_type": "markdown",
      "source": [
        "##   **Segunda derivada**"
      ],
      "metadata": {
        "id": "g9IrLg2EKWKu"
      }
    },
    {
      "cell_type": "code",
      "source": [
        "ddf = diff(df)\n",
        "ddf"
      ],
      "metadata": {
        "colab": {
          "base_uri": "https://localhost:8080/",
          "height": 38
        },
        "id": "jgFizGYFKTno",
        "outputId": "995ac19f-950e-4a69-e7a1-71a1fb1a2f06"
      },
      "execution_count": null,
      "outputs": [
        {
          "output_type": "execute_result",
          "data": {
            "text/plain": [
              "6⋅x - 24"
            ],
            "image/png": "[encoded data removed]",
            "text/latex": "$\\displaystyle 6 x - 24$"
          },
          "metadata": {},
          "execution_count": 100
        }
      ]
    },
    {
      "cell_type": "code",
      "source": [
        "factor(ddf)"
      ],
      "metadata": {
        "colab": {
          "base_uri": "https://localhost:8080/",
          "height": 38
        },
        "id": "vBhUpK9ZKko3",
        "outputId": "1ffde201-079c-4f66-da37-b0926610cb09"
      },
      "execution_count": null,
      "outputs": [
        {
          "output_type": "execute_result",
          "data": {
            "text/plain": [
              "6⋅(x - 4)"
            ],
            "image/png": "[encoded data removed]",
            "text/latex": "$\\displaystyle 6 \\left(x - 4\\right)$"
          },
          "metadata": {},
          "execution_count": 101
        }
      ]
    },
    {
      "cell_type": "markdown",
      "source": [
        "##   **Posibles puntos de inflexión**"
      ],
      "metadata": {
        "id": "N-1Rw2ywKp8p"
      }
    },
    {
      "cell_type": "code",
      "source": [
        "solve(ddf)"
      ],
      "metadata": {
        "colab": {
          "base_uri": "https://localhost:8080/",
          "height": 37
        },
        "id": "0CPwoWSFKkMQ",
        "outputId": "11dd4298-6b40-444c-aae6-a91103acc0c0"
      },
      "execution_count": null,
      "outputs": [
        {
          "output_type": "execute_result",
          "data": {
            "text/plain": [
              "[4]"
            ],
            "image/png": "[encoded data removed]",
            "text/latex": "$\\displaystyle \\left[ 4\\right]$"
          },
          "metadata": {},
          "execution_count": 102
        }
      ]
    },
    {
      "cell_type": "markdown",
      "source": [
        "##   **Intervalos de concavidad** \n",
        "\n",
        "### **Intervalo de cóncavidad hacia arriba**"
      ],
      "metadata": {
        "id": "WWUHBwLbK5Zg"
      }
    },
    {
      "cell_type": "code",
      "source": [
        "solve(ddf>0).as_set()"
      ],
      "metadata": {
        "colab": {
          "base_uri": "https://localhost:8080/",
          "height": 37
        },
        "outputId": "d2d7b7f5-7511-4937-a9ba-4c52324971ac",
        "id": "ZLJB7j77K5aD"
      },
      "execution_count": null,
      "outputs": [
        {
          "output_type": "execute_result",
          "data": {
            "text/plain": [
              "(4, ∞)"
            ],
            "image/png": "[encoded data removed]",
            "text/latex": "$\\displaystyle \\left(4, \\infty\\right)$"
          },
          "metadata": {},
          "execution_count": 104
        }
      ]
    },
    {
      "cell_type": "markdown",
      "source": [
        "### **Intervalo de cóncavidad hacia abajo**"
      ],
      "metadata": {
        "id": "8BX9YLAbK5aG"
      }
    },
    {
      "cell_type": "code",
      "source": [
        "solve(ddf<0).as_set()"
      ],
      "metadata": {
        "colab": {
          "base_uri": "https://localhost:8080/",
          "height": 37
        },
        "outputId": "d58f1bb5-b234-4d14-8e2e-850ae744ffa5",
        "id": "_go9po8DK5aH"
      },
      "execution_count": null,
      "outputs": [
        {
          "output_type": "execute_result",
          "data": {
            "text/plain": [
              "(-∞, 4)"
            ],
            "image/png": "[encoded data removed]",
            "text/latex": "$\\displaystyle \\left(-\\infty, 4\\right)$"
          },
          "metadata": {},
          "execution_count": 106
        }
      ]
    },
    {
      "cell_type": "markdown",
      "source": [
        "##   **Asintotas horizontales** "
      ],
      "metadata": {
        "id": "WudrmGRILXN0"
      }
    },
    {
      "cell_type": "code",
      "source": [
        "limit(f,x,oo)"
      ],
      "metadata": {
        "colab": {
          "base_uri": "https://localhost:8080/",
          "height": 37
        },
        "id": "lCRGxtuGLava",
        "outputId": "4a992d84-f19e-47c8-a292-400e0e1fe994"
      },
      "execution_count": null,
      "outputs": [
        {
          "output_type": "execute_result",
          "data": {
            "text/plain": [
              "∞"
            ],
            "image/png": "[encoded data removed]",
            "text/latex": "$\\displaystyle \\infty$"
          },
          "metadata": {},
          "execution_count": 107
        }
      ]
    },
    {
      "cell_type": "code",
      "source": [
        "limit(f,x,-oo)"
      ],
      "metadata": {
        "colab": {
          "base_uri": "https://localhost:8080/",
          "height": 37
        },
        "id": "xj4sdQZGLhMk",
        "outputId": "096e0d23-615a-40b8-fd2d-29e6f897b637"
      },
      "execution_count": null,
      "outputs": [
        {
          "output_type": "execute_result",
          "data": {
            "text/plain": [
              "-∞"
            ],
            "image/png": "[encoded data removed]",
            "text/latex": "$\\displaystyle -\\infty$"
          },
          "metadata": {},
          "execution_count": 108
        }
      ]
    },
    {
      "cell_type": "markdown",
      "source": [
        "##   **Gráfica de la función** "
      ],
      "metadata": {
        "id": "bOkFXib0LwtE"
      }
    },
    {
      "cell_type": "code",
      "source": [
        "plot(f,(x,-5,11))"
      ],
      "metadata": {
        "colab": {
          "base_uri": "https://localhost:8080/",
          "height": 315
        },
        "id": "2CpEwRiUL0Kd",
        "outputId": "6e5f9f10-e5f4-4283-d83d-7e983fc6045a"
      },
      "execution_count": null,
      "outputs": [
        {
          "output_type": "display_data",
          "data": {
            "text/plain": [
              "<Figure size 432x288 with 1 Axes>"
            ],
            "image/png": "[encoded data removed]"
          },
          "metadata": {
            "needs_background": "light"
          }
        },
        {
          "output_type": "execute_result",
          "data": {
            "text/plain": [
              "<sympy.plotting.plot.Plot at 0x7f16fe7e9b50>"
            ]
          },
          "metadata": {},
          "execution_count": 120
        }
      ]
    },
    {
      "cell_type": "markdown",
      "source": [
        "#**Ejemplo:**\n",
        "Usa los pasos vistos en clase para realizar el trazado de la siguiente curva:\n",
        "\n",
        "$$f(x)=\\frac{x}{x^{2}-9}$$"
      ],
      "metadata": {
        "id": "iuwieW3CluuI"
      }
    },
    {
      "cell_type": "code",
      "source": [
        "f = x/(x**2-9)\n",
        "f "
      ],
      "metadata": {
        "colab": {
          "base_uri": "https://localhost:8080/",
          "height": 49
        },
        "outputId": "2f58e07f-4c9a-4dfc-b4e8-3f89c446fef6",
        "id": "aKLI_AMVluuL"
      },
      "execution_count": 5,
      "outputs": [
        {
          "output_type": "execute_result",
          "data": {
            "text/plain": [
              "  x   \n",
              "──────\n",
              " 2    \n",
              "x  - 9"
            ],
            "image/png": "[encoded data removed]",
            "text/latex": "$\\displaystyle \\frac{x}{x^{2} - 9}$"
          },
          "metadata": {},
          "execution_count": 5
        }
      ]
    },
    {
      "cell_type": "markdown",
      "source": [
        "##  **Dominio**"
      ],
      "metadata": {
        "id": "pY4IsGnZluuN"
      }
    },
    {
      "cell_type": "code",
      "source": [
        "continuous_domain(f, x, S.Reals)"
      ],
      "metadata": {
        "colab": {
          "base_uri": "https://localhost:8080/",
          "height": 37
        },
        "outputId": "18275047-48a6-4b39-94cc-3c57c66e18ea",
        "id": "TfTHoPnuluuO"
      },
      "execution_count": 6,
      "outputs": [
        {
          "output_type": "execute_result",
          "data": {
            "text/plain": [
              "(-∞, -3) ∪ (-3, 3) ∪ (3, ∞)"
            ],
            "image/png": "[encoded data removed]",
            "text/latex": "$\\displaystyle \\left(-\\infty, -3\\right) \\cup \\left(-3, 3\\right) \\cup \\left(3, \\infty\\right)$"
          },
          "metadata": {},
          "execution_count": 6
        }
      ]
    },
    {
      "cell_type": "markdown",
      "source": [
        "##   **Intersección con el eje y:**  ($x=0$)\n"
      ],
      "metadata": {
        "id": "pcMSoygDluuP"
      }
    },
    {
      "cell_type": "code",
      "source": [
        "Eq(y,f).subs(x,0)"
      ],
      "metadata": {
        "colab": {
          "base_uri": "https://localhost:8080/",
          "height": 38
        },
        "outputId": "22e5ffde-a159-423b-8808-c9e9eb762adf",
        "id": "AX0wV_q_luuQ"
      },
      "execution_count": 7,
      "outputs": [
        {
          "output_type": "execute_result",
          "data": {
            "text/plain": [
              "y = 0"
            ],
            "image/png": "[encoded data removed]",
            "text/latex": "$\\displaystyle y = 0$"
          },
          "metadata": {},
          "execution_count": 7
        }
      ]
    },
    {
      "cell_type": "markdown",
      "source": [
        "##   **Intersección con el eje x:**   ($y=0$)"
      ],
      "metadata": {
        "id": "YcHFJ9OVluuQ"
      }
    },
    {
      "cell_type": "code",
      "source": [
        "Eq(y,f).subs(y,0)"
      ],
      "metadata": {
        "colab": {
          "base_uri": "https://localhost:8080/",
          "height": 49
        },
        "outputId": "7b12bea8-b003-473c-d6a6-d4b18ffc9aec",
        "id": "MX39O4-RluuR"
      },
      "execution_count": 8,
      "outputs": [
        {
          "output_type": "execute_result",
          "data": {
            "text/plain": [
              "      x   \n",
              "0 = ──────\n",
              "     2    \n",
              "    x  - 9"
            ],
            "image/png": "[encoded data removed]",
            "text/latex": "$\\displaystyle 0 = \\frac{x}{x^{2} - 9}$"
          },
          "metadata": {},
          "execution_count": 8
        }
      ]
    },
    {
      "cell_type": "code",
      "source": [
        "solve(Eq(y,f).subs(y,0))"
      ],
      "metadata": {
        "colab": {
          "base_uri": "https://localhost:8080/",
          "height": 37
        },
        "outputId": "c6e30131-0c34-480d-c2ad-55036586dcf2",
        "id": "lO0BDpULluuS"
      },
      "execution_count": 9,
      "outputs": [
        {
          "output_type": "execute_result",
          "data": {
            "text/plain": [
              "[0]"
            ],
            "image/png": "[encoded data removed]",
            "text/latex": "$\\displaystyle \\left[ 0\\right]$"
          },
          "metadata": {},
          "execution_count": 9
        }
      ]
    },
    {
      "cell_type": "markdown",
      "source": [
        "##   **Primera derivada**"
      ],
      "metadata": {
        "id": "B9h4MNacluuT"
      }
    },
    {
      "cell_type": "code",
      "source": [
        "df = diff(f)\n",
        "df"
      ],
      "metadata": {
        "colab": {
          "base_uri": "https://localhost:8080/",
          "height": 61
        },
        "outputId": "12122c76-a360-4127-8edc-f3e3baecefa0",
        "id": "tLzA_vffluuT"
      },
      "execution_count": 10,
      "outputs": [
        {
          "output_type": "execute_result",
          "data": {
            "text/plain": [
              "        2           \n",
              "     2⋅x        1   \n",
              "- ───────── + ──────\n",
              "          2    2    \n",
              "  ⎛ 2    ⎞    x  - 9\n",
              "  ⎝x  - 9⎠          "
            ],
            "image/png": "[encoded data removed]",
            "text/latex": "$\\displaystyle - \\frac{2 x^{2}}{\\left(x^{2} - 9\\right)^{2}} + \\frac{1}{x^{2} - 9}$"
          },
          "metadata": {},
          "execution_count": 10
        }
      ]
    },
    {
      "cell_type": "code",
      "source": [
        "factor(df)"
      ],
      "metadata": {
        "colab": {
          "base_uri": "https://localhost:8080/",
          "height": 61
        },
        "outputId": "f61e83f8-1e3d-436b-f41c-d4415f00d97a",
        "id": "3k1sh32KluuU"
      },
      "execution_count": 11,
      "outputs": [
        {
          "output_type": "execute_result",
          "data": {
            "text/plain": [
              "     ⎛ 2    ⎞    \n",
              "    -⎝x  + 9⎠    \n",
              "─────────────────\n",
              "       2        2\n",
              "(x - 3) ⋅(x + 3) "
            ],
            "image/png": "[encoded data removed]",
            "text/latex": "$\\displaystyle - \\frac{x^{2} + 9}{\\left(x - 3\\right)^{2} \\left(x + 3\\right)^{2}}$"
          },
          "metadata": {},
          "execution_count": 11
        }
      ]
    },
    {
      "cell_type": "markdown",
      "source": [
        "##   **Puntos críticos** "
      ],
      "metadata": {
        "id": "UUnM2QTBluuV"
      }
    },
    {
      "cell_type": "code",
      "source": [
        "solve(x**2+9)"
      ],
      "metadata": {
        "colab": {
          "base_uri": "https://localhost:8080/",
          "height": 37
        },
        "outputId": "8c933a44-9a0c-400f-af18-53ebf66c7329",
        "id": "POIMrb7hluuW"
      },
      "execution_count": 17,
      "outputs": [
        {
          "output_type": "execute_result",
          "data": {
            "text/plain": [
              "[]"
            ],
            "image/png": "[encoded data removed]",
            "text/latex": "$\\displaystyle \\left[ \\right]$"
          },
          "metadata": {},
          "execution_count": 17
        }
      ]
    },
    {
      "cell_type": "code",
      "source": [
        "solve((x-3)**2*(x+3)**2)"
      ],
      "metadata": {
        "colab": {
          "base_uri": "https://localhost:8080/",
          "height": 37
        },
        "id": "eUAGO_k_ns1k",
        "outputId": "9028b50d-69bb-4658-9c03-d7ca59cc710c"
      },
      "execution_count": 18,
      "outputs": [
        {
          "output_type": "execute_result",
          "data": {
            "text/plain": [
              "[-3, 3]"
            ],
            "image/png": "[encoded data removed]",
            "text/latex": "$\\displaystyle \\left[ -3, \\  3\\right]$"
          },
          "metadata": {},
          "execution_count": 18
        }
      ]
    },
    {
      "cell_type": "markdown",
      "source": [
        "##   **Intervalos de crecimiento y decrecimiento** \n",
        "\n",
        "### **Creciente**"
      ],
      "metadata": {
        "id": "ZrITJKDzluuX"
      }
    },
    {
      "cell_type": "code",
      "source": [
        "solve(df>0).as_set()"
      ],
      "metadata": {
        "colab": {
          "base_uri": "https://localhost:8080/",
          "height": 37
        },
        "outputId": "7131477c-da1e-4520-8350-f5c67c0eb78d",
        "id": "SYl_u4JlluuY"
      },
      "execution_count": 19,
      "outputs": [
        {
          "output_type": "execute_result",
          "data": {
            "text/plain": [
              "∅"
            ],
            "image/png": "[encoded data removed]",
            "text/latex": "$\\displaystyle \\emptyset$"
          },
          "metadata": {},
          "execution_count": 19
        }
      ]
    },
    {
      "cell_type": "markdown",
      "source": [
        "### **Decreciente**"
      ],
      "metadata": {
        "id": "PsMaCxKkluuZ"
      }
    },
    {
      "cell_type": "code",
      "source": [
        "solve(df<0).as_set()"
      ],
      "metadata": {
        "colab": {
          "base_uri": "https://localhost:8080/",
          "height": 37
        },
        "outputId": "3cfb6e2f-d7e4-4ae9-8060-4ee6a8cd67b7",
        "id": "8PcvZWUHluua"
      },
      "execution_count": 20,
      "outputs": [
        {
          "output_type": "execute_result",
          "data": {
            "text/plain": [
              "(-∞, -3) ∪ (-3, 3) ∪ (3, ∞)"
            ],
            "image/png": "[encoded data removed]",
            "text/latex": "$\\displaystyle \\left(-\\infty, -3\\right) \\cup \\left(-3, 3\\right) \\cup \\left(3, \\infty\\right)$"
          },
          "metadata": {},
          "execution_count": 20
        }
      ]
    },
    {
      "cell_type": "markdown",
      "source": [
        "##   **Segunda derivada**"
      ],
      "metadata": {
        "id": "DS6Jrh64luua"
      }
    },
    {
      "cell_type": "code",
      "source": [
        "ddf = diff(df)\n",
        "ddf"
      ],
      "metadata": {
        "colab": {
          "base_uri": "https://localhost:8080/",
          "height": 61
        },
        "outputId": "3a1279ae-20a5-471e-fe84-8e33707b9165",
        "id": "Jye1N6Y1luub"
      },
      "execution_count": 21,
      "outputs": [
        {
          "output_type": "execute_result",
          "data": {
            "text/plain": [
              "      3              \n",
              "   8⋅x         6⋅x   \n",
              "───────── - ─────────\n",
              "        3           2\n",
              "⎛ 2    ⎞    ⎛ 2    ⎞ \n",
              "⎝x  - 9⎠    ⎝x  - 9⎠ "
            ],
            "image/png": "[encoded data removed]",
            "text/latex": "$\\displaystyle \\frac{8 x^{3}}{\\left(x^{2} - 9\\right)^{3}} - \\frac{6 x}{\\left(x^{2} - 9\\right)^{2}}$"
          },
          "metadata": {},
          "execution_count": 21
        }
      ]
    },
    {
      "cell_type": "code",
      "source": [
        "factor(ddf)"
      ],
      "metadata": {
        "colab": {
          "base_uri": "https://localhost:8080/",
          "height": 62
        },
        "outputId": "76cda437-4939-4774-ea59-d70a7fae086c",
        "id": "UAt8ZOJ_luuc"
      },
      "execution_count": 23,
      "outputs": [
        {
          "output_type": "execute_result",
          "data": {
            "text/plain": [
              "      ⎛ 2     ⎞  \n",
              "  2⋅x⋅⎝x  + 27⎠  \n",
              "─────────────────\n",
              "       3        3\n",
              "(x - 3) ⋅(x + 3) "
            ],
            "image/png": "[encoded data removed]",
            "text/latex": "$\\displaystyle \\frac{2 x \\left(x^{2} + 27\\right)}{\\left(x - 3\\right)^{3} \\left(x + 3\\right)^{3}}$"
          },
          "metadata": {},
          "execution_count": 23
        }
      ]
    },
    {
      "cell_type": "markdown",
      "source": [
        "##   **Posibles puntos de inflexión**"
      ],
      "metadata": {
        "id": "VbLRaaZ0luud"
      }
    },
    {
      "cell_type": "code",
      "source": [
        "solve(ddf)"
      ],
      "metadata": {
        "colab": {
          "base_uri": "https://localhost:8080/",
          "height": 37
        },
        "outputId": "900dd0f2-22a9-4256-be2d-3821889caba2",
        "id": "SBqbTRg-luud"
      },
      "execution_count": 25,
      "outputs": [
        {
          "output_type": "execute_result",
          "data": {
            "text/plain": [
              "[0]"
            ],
            "image/png": "[encoded data removed]",
            "text/latex": "$\\displaystyle \\left[ 0\\right]$"
          },
          "metadata": {},
          "execution_count": 25
        }
      ]
    },
    {
      "cell_type": "markdown",
      "source": [
        "##   **Intervalos de concavidad** \n",
        "\n",
        "### **Cóncavidad hacia arriba**"
      ],
      "metadata": {
        "id": "5R6yW340luue"
      }
    },
    {
      "cell_type": "code",
      "source": [
        "solve(ddf>0).as_set()"
      ],
      "metadata": {
        "colab": {
          "base_uri": "https://localhost:8080/",
          "height": 37
        },
        "outputId": "f53f76d6-ca4c-4aa5-b4da-e838622e81e1",
        "id": "PB0aBR7Eluuf"
      },
      "execution_count": 26,
      "outputs": [
        {
          "output_type": "execute_result",
          "data": {
            "text/plain": [
              "(-3, 0) ∪ (3, ∞)"
            ],
            "image/png": "[encoded data removed]",
            "text/latex": "$\\displaystyle \\left(-3, 0\\right) \\cup \\left(3, \\infty\\right)$"
          },
          "metadata": {},
          "execution_count": 26
        }
      ]
    },
    {
      "cell_type": "markdown",
      "source": [
        "### **Cóncavidad hacia abajo**"
      ],
      "metadata": {
        "id": "yMKISX-tluug"
      }
    },
    {
      "cell_type": "code",
      "source": [
        "solve(ddf<0).as_set()"
      ],
      "metadata": {
        "colab": {
          "base_uri": "https://localhost:8080/",
          "height": 37
        },
        "outputId": "334a7099-bde0-4b4e-cd89-5775053fe786",
        "id": "8Q6EJMJSluug"
      },
      "execution_count": 27,
      "outputs": [
        {
          "output_type": "execute_result",
          "data": {
            "text/plain": [
              "(-∞, -3) ∪ (0, 3)"
            ],
            "image/png": "[encoded data removed]",
            "text/latex": "$\\displaystyle \\left(-\\infty, -3\\right) \\cup \\left(0, 3\\right)$"
          },
          "metadata": {},
          "execution_count": 27
        }
      ]
    },
    {
      "cell_type": "markdown",
      "source": [
        "##   **Asintotas horizontales**"
      ],
      "metadata": {
        "id": "TokJ4NYFluuh"
      }
    },
    {
      "cell_type": "code",
      "source": [
        "limit(f,x,oo)"
      ],
      "metadata": {
        "colab": {
          "base_uri": "https://localhost:8080/",
          "height": 37
        },
        "outputId": "4edf3166-5192-42eb-f512-960055c3a67d",
        "id": "VWwdNVyFluuh"
      },
      "execution_count": 35,
      "outputs": [
        {
          "output_type": "execute_result",
          "data": {
            "text/plain": [
              "0"
            ],
            "image/png": "[encoded data removed]",
            "text/latex": "$\\displaystyle 0$"
          },
          "metadata": {},
          "execution_count": 35
        }
      ]
    },
    {
      "cell_type": "code",
      "source": [
        "limit(f,x,-oo)"
      ],
      "metadata": {
        "colab": {
          "base_uri": "https://localhost:8080/",
          "height": 37
        },
        "outputId": "37c73f6c-a483-403b-f7a3-711e2b8fec7d",
        "id": "SWNVF1Orluui"
      },
      "execution_count": 29,
      "outputs": [
        {
          "output_type": "execute_result",
          "data": {
            "text/plain": [
              "0"
            ],
            "image/png": "[encoded data removed]",
            "text/latex": "$\\displaystyle 0$"
          },
          "metadata": {},
          "execution_count": 29
        }
      ]
    },
    {
      "cell_type": "markdown",
      "source": [
        "##   **Asintotas verticales**\n",
        "\n",
        "### **Posibles asintotas verticales**"
      ],
      "metadata": {
        "id": "Rx04QEwxogFo"
      }
    },
    {
      "cell_type": "code",
      "source": [
        "solve(x**2-9)"
      ],
      "metadata": {
        "colab": {
          "base_uri": "https://localhost:8080/",
          "height": 37
        },
        "id": "8lFMry36o12H",
        "outputId": "79cf7936-e4c2-44e7-8114-fd292b5fbe53"
      },
      "execution_count": 30,
      "outputs": [
        {
          "output_type": "execute_result",
          "data": {
            "text/plain": [
              "[-3, 3]"
            ],
            "image/png": "[encoded data removed]",
            "text/latex": "$\\displaystyle \\left[ -3, \\  3\\right]$"
          },
          "metadata": {},
          "execution_count": 30
        }
      ]
    },
    {
      "cell_type": "code",
      "source": [
        "limit(f,x,3,dir=\"+\")"
      ],
      "metadata": {
        "colab": {
          "base_uri": "https://localhost:8080/",
          "height": 37
        },
        "id": "tC1n_m0lpIxp",
        "outputId": "98e76d52-12b5-42e2-c722-67b2a71b94f6"
      },
      "execution_count": 39,
      "outputs": [
        {
          "output_type": "execute_result",
          "data": {
            "text/plain": [
              "∞"
            ],
            "image/png": "[encoded data removed]",
            "text/latex": "$\\displaystyle \\infty$"
          },
          "metadata": {},
          "execution_count": 39
        }
      ]
    },
    {
      "cell_type": "code",
      "source": [
        "limit(f,x,3,dir=\"-\")"
      ],
      "metadata": {
        "colab": {
          "base_uri": "https://localhost:8080/",
          "height": 37
        },
        "id": "wIdExFWlpQud",
        "outputId": "069662d1-172b-43e0-e6ae-21f48f0bed6e"
      },
      "execution_count": 40,
      "outputs": [
        {
          "output_type": "execute_result",
          "data": {
            "text/plain": [
              "-∞"
            ],
            "image/png": "[encoded data removed]",
            "text/latex": "$\\displaystyle -\\infty$"
          },
          "metadata": {},
          "execution_count": 40
        }
      ]
    },
    {
      "cell_type": "code",
      "source": [
        "limit(f,x,-3,dir=\"+\")"
      ],
      "metadata": {
        "colab": {
          "base_uri": "https://localhost:8080/",
          "height": 37
        },
        "id": "G16zyaEHpUag",
        "outputId": "61854ca7-7db7-43ec-faa3-4ec44b6a278e"
      },
      "execution_count": 41,
      "outputs": [
        {
          "output_type": "execute_result",
          "data": {
            "text/plain": [
              "∞"
            ],
            "image/png": "[encoded data removed]",
            "text/latex": "$\\displaystyle \\infty$"
          },
          "metadata": {},
          "execution_count": 41
        }
      ]
    },
    {
      "cell_type": "code",
      "source": [
        "limit(f,x,-3,dir=\"-\")"
      ],
      "metadata": {
        "colab": {
          "base_uri": "https://localhost:8080/",
          "height": 37
        },
        "id": "ytRGXcO0pWXA",
        "outputId": "2eee877a-bae7-4be7-da15-e60d8b9e4484"
      },
      "execution_count": 42,
      "outputs": [
        {
          "output_type": "execute_result",
          "data": {
            "text/plain": [
              "-∞"
            ],
            "image/png": "[encoded data removed]",
            "text/latex": "$\\displaystyle -\\infty$"
          },
          "metadata": {},
          "execution_count": 42
        }
      ]
    },
    {
      "cell_type": "markdown",
      "source": [
        "##   **Gráfica de la función** "
      ],
      "metadata": {
        "id": "5GugfnQJluuj"
      }
    },
    {
      "cell_type": "code",
      "source": [
        "plot(f,adaptive=False)"
      ],
      "metadata": {
        "colab": {
          "base_uri": "https://localhost:8080/",
          "height": 315
        },
        "outputId": "b5f8d5b7-f4af-4af0-f9a5-bbc30fd865d2",
        "id": "otdR8Zcyluuk"
      },
      "execution_count": 44,
      "outputs": [
        {
          "output_type": "display_data",
          "data": {
            "text/plain": [
              "<Figure size 432x288 with 1 Axes>"
            ],
            "image/png": "[encoded data removed]"
          },
          "metadata": {
            "needs_background": "light"
          }
        },
        {
          "output_type": "execute_result",
          "data": {
            "text/plain": [
              "<sympy.plotting.plot.Plot at 0x7fcae9b3abd0>"
            ]
          },
          "metadata": {},
          "execution_count": 44
        }
      ]
    }
  ]
}